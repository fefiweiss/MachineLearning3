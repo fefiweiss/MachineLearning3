{
 "cells": [
  {
   "cell_type": "markdown",
   "metadata": {},
   "source": [
    "# 3. Calidad de un vino"
   ]
  },
  {
   "cell_type": "markdown",
   "metadata": {},
   "source": [
    "En este ejercicio, se pretenderá calificar si un vino es de buena o mala calidad.Para esto se analizaran los atributos asociados a las características fisioquímicas asociadas a un vino en particular. Este problema se puede abordar como calificación, ó como una regresión, ya que el atributo a predecir es la calidad del vino que está en un rango de 0 a 10. En este caso se utilizarán 2 sets relacionados con los vinos tintos y blancos del vino portugués \"Vinho Verde\"."
   ]
  },
  {
   "cell_type": "markdown",
   "metadata": {},
   "source": [
    "### a) Carga de datos"
   ]
  },
  {
   "cell_type": "markdown",
   "metadata": {},
   "source": [
    "A continuación se cargan los 2 datasets, además se agrega una columna indicando si el vino es tinto o blanco:"
   ]
  },
  {
   "cell_type": "code",
   "execution_count": 1,
   "metadata": {},
   "outputs": [
    {
     "name": "stdout",
     "output_type": "stream",
     "text": [
      "Cantidad de vinos tintos: 1599\n",
      "Cantidad de vinos blancos: 4898\n",
      "Forma de la matriz: (6497, 13)\n"
     ]
    }
   ],
   "source": [
    "import pandas as pd\n",
    "df_red = pd.read_csv(\"winequality/winequality-red.csv\",sep=\";\")\n",
    "red_wine = len(df_red)\n",
    "print(\"Cantidad de vinos tintos:\",red_wine)\n",
    "df_white = pd.read_csv(\"winequality/winequality-white.csv\",sep=\";\")\n",
    "white_wine = len(df_white)\n",
    "print(\"Cantidad de vinos blancos:\",white_wine)\n",
    "df = pd.concat([df_red,df_white], axis=0)\n",
    "\n",
    "# Crear columna tipo.\n",
    "tipo = []\n",
    "for wine in range(red_wine):\n",
    "    tipo.append(0)\n",
    "for wine in range(white_wine):\n",
    "    tipo.append(1)\n",
    "df = df.assign(tipo=tipo)\n",
    "\n",
    "# Si tipo[i] == 0 => tinto, else, vino blanco\n",
    "# Descripción de dataset.\n",
    "print(\"Forma de la matriz:\",df.shape)\n"
   ]
  },
  {
   "cell_type": "code",
   "execution_count": 2,
   "metadata": {},
   "outputs": [
    {
     "name": "stdout",
     "output_type": "stream",
     "text": [
      "Información de los datos:\n",
      "<class 'pandas.core.frame.DataFrame'>\n",
      "Int64Index: 6497 entries, 0 to 4897\n",
      "Data columns (total 13 columns):\n",
      "fixed acidity           6497 non-null float64\n",
      "volatile acidity        6497 non-null float64\n",
      "citric acid             6497 non-null float64\n",
      "residual sugar          6497 non-null float64\n",
      "chlorides               6497 non-null float64\n",
      "free sulfur dioxide     6497 non-null float64\n",
      "total sulfur dioxide    6497 non-null float64\n",
      "density                 6497 non-null float64\n",
      "pH                      6497 non-null float64\n",
      "sulphates               6497 non-null float64\n",
      "alcohol                 6497 non-null float64\n",
      "quality                 6497 non-null int64\n",
      "tipo                    6497 non-null int64\n",
      "dtypes: float64(11), int64(2)\n",
      "memory usage: 710.6 KB\n"
     ]
    }
   ],
   "source": [
    "print(\"Información de los datos:\")\n",
    "df.info()"
   ]
  },
  {
   "cell_type": "code",
   "execution_count": 3,
   "metadata": {},
   "outputs": [
    {
     "name": "stdout",
     "output_type": "stream",
     "text": [
      "Resumen de los datos:\n"
     ]
    },
    {
     "data": {
      "text/html": [
       "<div>\n",
       "<style scoped>\n",
       "    .dataframe tbody tr th:only-of-type {\n",
       "        vertical-align: middle;\n",
       "    }\n",
       "\n",
       "    .dataframe tbody tr th {\n",
       "        vertical-align: top;\n",
       "    }\n",
       "\n",
       "    .dataframe thead th {\n",
       "        text-align: right;\n",
       "    }\n",
       "</style>\n",
       "<table border=\"1\" class=\"dataframe\">\n",
       "  <thead>\n",
       "    <tr style=\"text-align: right;\">\n",
       "      <th></th>\n",
       "      <th>fixed acidity</th>\n",
       "      <th>volatile acidity</th>\n",
       "      <th>citric acid</th>\n",
       "      <th>residual sugar</th>\n",
       "      <th>chlorides</th>\n",
       "      <th>free sulfur dioxide</th>\n",
       "      <th>total sulfur dioxide</th>\n",
       "      <th>density</th>\n",
       "      <th>pH</th>\n",
       "      <th>sulphates</th>\n",
       "      <th>alcohol</th>\n",
       "      <th>quality</th>\n",
       "      <th>tipo</th>\n",
       "    </tr>\n",
       "  </thead>\n",
       "  <tbody>\n",
       "    <tr>\n",
       "      <th>count</th>\n",
       "      <td>6497.000000</td>\n",
       "      <td>6497.000000</td>\n",
       "      <td>6497.000000</td>\n",
       "      <td>6497.000000</td>\n",
       "      <td>6497.000000</td>\n",
       "      <td>6497.000000</td>\n",
       "      <td>6497.000000</td>\n",
       "      <td>6497.000000</td>\n",
       "      <td>6497.000000</td>\n",
       "      <td>6497.000000</td>\n",
       "      <td>6497.000000</td>\n",
       "      <td>6497.000000</td>\n",
       "      <td>6497.000000</td>\n",
       "    </tr>\n",
       "    <tr>\n",
       "      <th>mean</th>\n",
       "      <td>7.215307</td>\n",
       "      <td>0.339666</td>\n",
       "      <td>0.318633</td>\n",
       "      <td>5.443235</td>\n",
       "      <td>0.056034</td>\n",
       "      <td>30.525319</td>\n",
       "      <td>115.744574</td>\n",
       "      <td>0.994697</td>\n",
       "      <td>3.218501</td>\n",
       "      <td>0.531268</td>\n",
       "      <td>10.491801</td>\n",
       "      <td>5.818378</td>\n",
       "      <td>0.753886</td>\n",
       "    </tr>\n",
       "    <tr>\n",
       "      <th>std</th>\n",
       "      <td>1.296434</td>\n",
       "      <td>0.164636</td>\n",
       "      <td>0.145318</td>\n",
       "      <td>4.757804</td>\n",
       "      <td>0.035034</td>\n",
       "      <td>17.749400</td>\n",
       "      <td>56.521855</td>\n",
       "      <td>0.002999</td>\n",
       "      <td>0.160787</td>\n",
       "      <td>0.148806</td>\n",
       "      <td>1.192712</td>\n",
       "      <td>0.873255</td>\n",
       "      <td>0.430779</td>\n",
       "    </tr>\n",
       "    <tr>\n",
       "      <th>min</th>\n",
       "      <td>3.800000</td>\n",
       "      <td>0.080000</td>\n",
       "      <td>0.000000</td>\n",
       "      <td>0.600000</td>\n",
       "      <td>0.009000</td>\n",
       "      <td>1.000000</td>\n",
       "      <td>6.000000</td>\n",
       "      <td>0.987110</td>\n",
       "      <td>2.720000</td>\n",
       "      <td>0.220000</td>\n",
       "      <td>8.000000</td>\n",
       "      <td>3.000000</td>\n",
       "      <td>0.000000</td>\n",
       "    </tr>\n",
       "    <tr>\n",
       "      <th>25%</th>\n",
       "      <td>6.400000</td>\n",
       "      <td>0.230000</td>\n",
       "      <td>0.250000</td>\n",
       "      <td>1.800000</td>\n",
       "      <td>0.038000</td>\n",
       "      <td>17.000000</td>\n",
       "      <td>77.000000</td>\n",
       "      <td>0.992340</td>\n",
       "      <td>3.110000</td>\n",
       "      <td>0.430000</td>\n",
       "      <td>9.500000</td>\n",
       "      <td>5.000000</td>\n",
       "      <td>1.000000</td>\n",
       "    </tr>\n",
       "    <tr>\n",
       "      <th>50%</th>\n",
       "      <td>7.000000</td>\n",
       "      <td>0.290000</td>\n",
       "      <td>0.310000</td>\n",
       "      <td>3.000000</td>\n",
       "      <td>0.047000</td>\n",
       "      <td>29.000000</td>\n",
       "      <td>118.000000</td>\n",
       "      <td>0.994890</td>\n",
       "      <td>3.210000</td>\n",
       "      <td>0.510000</td>\n",
       "      <td>10.300000</td>\n",
       "      <td>6.000000</td>\n",
       "      <td>1.000000</td>\n",
       "    </tr>\n",
       "    <tr>\n",
       "      <th>75%</th>\n",
       "      <td>7.700000</td>\n",
       "      <td>0.400000</td>\n",
       "      <td>0.390000</td>\n",
       "      <td>8.100000</td>\n",
       "      <td>0.065000</td>\n",
       "      <td>41.000000</td>\n",
       "      <td>156.000000</td>\n",
       "      <td>0.996990</td>\n",
       "      <td>3.320000</td>\n",
       "      <td>0.600000</td>\n",
       "      <td>11.300000</td>\n",
       "      <td>6.000000</td>\n",
       "      <td>1.000000</td>\n",
       "    </tr>\n",
       "    <tr>\n",
       "      <th>max</th>\n",
       "      <td>15.900000</td>\n",
       "      <td>1.580000</td>\n",
       "      <td>1.660000</td>\n",
       "      <td>65.800000</td>\n",
       "      <td>0.611000</td>\n",
       "      <td>289.000000</td>\n",
       "      <td>440.000000</td>\n",
       "      <td>1.038980</td>\n",
       "      <td>4.010000</td>\n",
       "      <td>2.000000</td>\n",
       "      <td>14.900000</td>\n",
       "      <td>9.000000</td>\n",
       "      <td>1.000000</td>\n",
       "    </tr>\n",
       "  </tbody>\n",
       "</table>\n",
       "</div>"
      ],
      "text/plain": [
       "       fixed acidity  volatile acidity  citric acid  residual sugar  \\\n",
       "count    6497.000000       6497.000000  6497.000000     6497.000000   \n",
       "mean        7.215307          0.339666     0.318633        5.443235   \n",
       "std         1.296434          0.164636     0.145318        4.757804   \n",
       "min         3.800000          0.080000     0.000000        0.600000   \n",
       "25%         6.400000          0.230000     0.250000        1.800000   \n",
       "50%         7.000000          0.290000     0.310000        3.000000   \n",
       "75%         7.700000          0.400000     0.390000        8.100000   \n",
       "max        15.900000          1.580000     1.660000       65.800000   \n",
       "\n",
       "         chlorides  free sulfur dioxide  total sulfur dioxide      density  \\\n",
       "count  6497.000000          6497.000000           6497.000000  6497.000000   \n",
       "mean      0.056034            30.525319            115.744574     0.994697   \n",
       "std       0.035034            17.749400             56.521855     0.002999   \n",
       "min       0.009000             1.000000              6.000000     0.987110   \n",
       "25%       0.038000            17.000000             77.000000     0.992340   \n",
       "50%       0.047000            29.000000            118.000000     0.994890   \n",
       "75%       0.065000            41.000000            156.000000     0.996990   \n",
       "max       0.611000           289.000000            440.000000     1.038980   \n",
       "\n",
       "                pH    sulphates      alcohol      quality         tipo  \n",
       "count  6497.000000  6497.000000  6497.000000  6497.000000  6497.000000  \n",
       "mean      3.218501     0.531268    10.491801     5.818378     0.753886  \n",
       "std       0.160787     0.148806     1.192712     0.873255     0.430779  \n",
       "min       2.720000     0.220000     8.000000     3.000000     0.000000  \n",
       "25%       3.110000     0.430000     9.500000     5.000000     1.000000  \n",
       "50%       3.210000     0.510000    10.300000     6.000000     1.000000  \n",
       "75%       3.320000     0.600000    11.300000     6.000000     1.000000  \n",
       "max       4.010000     2.000000    14.900000     9.000000     1.000000  "
      ]
     },
     "execution_count": 3,
     "metadata": {},
     "output_type": "execute_result"
    }
   ],
   "source": [
    "print(\"Resumen de los datos:\")\n",
    "df.describe()"
   ]
  },
  {
   "cell_type": "code",
   "execution_count": 4,
   "metadata": {},
   "outputs": [
    {
     "name": "stdout",
     "output_type": "stream",
     "text": [
      "Ejemplos del dataset:\n"
     ]
    },
    {
     "data": {
      "text/html": [
       "<div>\n",
       "<style scoped>\n",
       "    .dataframe tbody tr th:only-of-type {\n",
       "        vertical-align: middle;\n",
       "    }\n",
       "\n",
       "    .dataframe tbody tr th {\n",
       "        vertical-align: top;\n",
       "    }\n",
       "\n",
       "    .dataframe thead th {\n",
       "        text-align: right;\n",
       "    }\n",
       "</style>\n",
       "<table border=\"1\" class=\"dataframe\">\n",
       "  <thead>\n",
       "    <tr style=\"text-align: right;\">\n",
       "      <th></th>\n",
       "      <th>fixed acidity</th>\n",
       "      <th>volatile acidity</th>\n",
       "      <th>citric acid</th>\n",
       "      <th>residual sugar</th>\n",
       "      <th>chlorides</th>\n",
       "      <th>free sulfur dioxide</th>\n",
       "      <th>total sulfur dioxide</th>\n",
       "      <th>density</th>\n",
       "      <th>pH</th>\n",
       "      <th>sulphates</th>\n",
       "      <th>alcohol</th>\n",
       "      <th>quality</th>\n",
       "      <th>tipo</th>\n",
       "    </tr>\n",
       "  </thead>\n",
       "  <tbody>\n",
       "    <tr>\n",
       "      <th>0</th>\n",
       "      <td>7.4</td>\n",
       "      <td>0.70</td>\n",
       "      <td>0.00</td>\n",
       "      <td>1.9</td>\n",
       "      <td>0.076</td>\n",
       "      <td>11.0</td>\n",
       "      <td>34.0</td>\n",
       "      <td>0.9978</td>\n",
       "      <td>3.51</td>\n",
       "      <td>0.56</td>\n",
       "      <td>9.4</td>\n",
       "      <td>5</td>\n",
       "      <td>0</td>\n",
       "    </tr>\n",
       "    <tr>\n",
       "      <th>1</th>\n",
       "      <td>7.8</td>\n",
       "      <td>0.88</td>\n",
       "      <td>0.00</td>\n",
       "      <td>2.6</td>\n",
       "      <td>0.098</td>\n",
       "      <td>25.0</td>\n",
       "      <td>67.0</td>\n",
       "      <td>0.9968</td>\n",
       "      <td>3.20</td>\n",
       "      <td>0.68</td>\n",
       "      <td>9.8</td>\n",
       "      <td>5</td>\n",
       "      <td>0</td>\n",
       "    </tr>\n",
       "    <tr>\n",
       "      <th>2</th>\n",
       "      <td>7.8</td>\n",
       "      <td>0.76</td>\n",
       "      <td>0.04</td>\n",
       "      <td>2.3</td>\n",
       "      <td>0.092</td>\n",
       "      <td>15.0</td>\n",
       "      <td>54.0</td>\n",
       "      <td>0.9970</td>\n",
       "      <td>3.26</td>\n",
       "      <td>0.65</td>\n",
       "      <td>9.8</td>\n",
       "      <td>5</td>\n",
       "      <td>0</td>\n",
       "    </tr>\n",
       "    <tr>\n",
       "      <th>3</th>\n",
       "      <td>11.2</td>\n",
       "      <td>0.28</td>\n",
       "      <td>0.56</td>\n",
       "      <td>1.9</td>\n",
       "      <td>0.075</td>\n",
       "      <td>17.0</td>\n",
       "      <td>60.0</td>\n",
       "      <td>0.9980</td>\n",
       "      <td>3.16</td>\n",
       "      <td>0.58</td>\n",
       "      <td>9.8</td>\n",
       "      <td>6</td>\n",
       "      <td>0</td>\n",
       "    </tr>\n",
       "    <tr>\n",
       "      <th>4</th>\n",
       "      <td>7.4</td>\n",
       "      <td>0.70</td>\n",
       "      <td>0.00</td>\n",
       "      <td>1.9</td>\n",
       "      <td>0.076</td>\n",
       "      <td>11.0</td>\n",
       "      <td>34.0</td>\n",
       "      <td>0.9978</td>\n",
       "      <td>3.51</td>\n",
       "      <td>0.56</td>\n",
       "      <td>9.4</td>\n",
       "      <td>5</td>\n",
       "      <td>0</td>\n",
       "    </tr>\n",
       "  </tbody>\n",
       "</table>\n",
       "</div>"
      ],
      "text/plain": [
       "   fixed acidity  volatile acidity  citric acid  residual sugar  chlorides  \\\n",
       "0            7.4              0.70         0.00             1.9      0.076   \n",
       "1            7.8              0.88         0.00             2.6      0.098   \n",
       "2            7.8              0.76         0.04             2.3      0.092   \n",
       "3           11.2              0.28         0.56             1.9      0.075   \n",
       "4            7.4              0.70         0.00             1.9      0.076   \n",
       "\n",
       "   free sulfur dioxide  total sulfur dioxide  density    pH  sulphates  \\\n",
       "0                 11.0                  34.0   0.9978  3.51       0.56   \n",
       "1                 25.0                  67.0   0.9968  3.20       0.68   \n",
       "2                 15.0                  54.0   0.9970  3.26       0.65   \n",
       "3                 17.0                  60.0   0.9980  3.16       0.58   \n",
       "4                 11.0                  34.0   0.9978  3.51       0.56   \n",
       "\n",
       "   alcohol  quality  tipo  \n",
       "0      9.4        5     0  \n",
       "1      9.8        5     0  \n",
       "2      9.8        5     0  \n",
       "3      9.8        6     0  \n",
       "4      9.4        5     0  "
      ]
     },
     "execution_count": 4,
     "metadata": {},
     "output_type": "execute_result"
    }
   ],
   "source": [
    "print(\"Ejemplos del dataset:\")\n",
    "df.head()"
   ]
  },
  {
   "cell_type": "markdown",
   "metadata": {},
   "source": [
    "Se puede observar que el conjunto consta de 6497 vinos que son variaciones del vino tinto y blanco, donde 1599 son tintos y 4898 corresponden a vinos blancos. Hay 11 atributos fisioquímicos que son números reales y que describen el vino:\n",
    "<ul>\n",
    "    <li><strong>acidez fija</strong></li>\n",
    "    <li><strong>acidez volátil</strong></li> \n",
    "    <li><strong>ácido cítrico</strong></li>\n",
    "    <li><strong>azúcar residual</strong></li>\n",
    "    <li><strong>cloruros</strong></li>\n",
    "    <li><strong>dióxido de azufre libre</strong></li>\n",
    "    <li><strong>dióxido de azufre total</strong></li>\n",
    "    <li><strong>densidad</strong> </li>\n",
    "    <li><strong>pH</strong> \n",
    "    <li><strong>sulfatos</strong></li>\n",
    "    <li><strong>alcohol</strong></li>\n",
    "</ul>"
   ]
  },
  {
   "cell_type": "markdown",
   "metadata": {},
   "source": [
    "Las otras dos columnas corresponden a datos enteros que corresponden a la calidad, donde su rango es de 0 a 10 y el tipo de vino, que es 1 si es vino blanco y 0 si es tinto.\n",
    "Por suerte para el modelo, ninguno de estos atributos poseen datos nulos."
   ]
  },
  {
   "cell_type": "markdown",
   "metadata": {},
   "source": [
    "### b) Clasificación binaria"
   ]
  },
  {
   "cell_type": "markdown",
   "metadata": {},
   "source": [
    "Se abordará el problema como clasificación binaria, donde la salida será predecir si es de buena calidad o no, como criterio, si la nota del vino es > 5 será de calidad, y no lo será si es menor a ese valor."
   ]
  },
  {
   "cell_type": "code",
   "execution_count": 5,
   "metadata": {},
   "outputs": [
    {
     "name": "stdout",
     "output_type": "stream",
     "text": [
      "X_train:4872\n",
      "X_test: 1625\n"
     ]
    }
   ],
   "source": [
    "# Para evitar el orden por defecto de las etiquetas.\n",
    "df = df.sample(frac=1,random_state=44)\n",
    "\n",
    "#Etiquetas\n",
    "y = [1 if q>5 else 0 for q in df.quality]\n",
    "df = df.drop('quality', axis=1)\n",
    "\n",
    "#Conjuntos\n",
    "from sklearn.model_selection import train_test_split\n",
    "X_train,X_test,y_train,y_test = train_test_split(df,y,test_size=0.25,random_state=42)\n",
    "print(\"X_train:\"+str(len(X_train)))\n",
    "print(\"X_test: \"+str(len(X_test)))"
   ]
  },
  {
   "cell_type": "markdown",
   "metadata": {},
   "source": [
    "En la celda anterior también se crean los conjuntos de entrenamiento y prueba, con 4872 y 1625 ejemplos respectivamente."
   ]
  },
  {
   "cell_type": "code",
   "execution_count": 6,
   "metadata": {},
   "outputs": [
    {
     "name": "stdout",
     "output_type": "stream",
     "text": [
      "Desbalanceo de datos\n",
      "Conjunto de entrenamiento: Counter({1: 3086, 0: 1786})\n",
      "Conjunto de pruebas Counter({1: 1027, 0: 598})\n"
     ]
    }
   ],
   "source": [
    "import collections\n",
    "print(\"Desbalanceo de datos\")\n",
    "\n",
    "counter_tr=collections.Counter(y_train)\n",
    "print(\"Conjunto de entrenamiento:\",counter_tr)\n",
    "\n",
    "counter_t=collections.Counter(y_test)\n",
    "print(\"Conjunto de pruebas\",counter_t)\n",
    "\n"
   ]
  },
  {
   "cell_type": "markdown",
   "metadata": {},
   "source": [
    "En esta celda se puede apreciar el desbalanceo de datos, dado que tanto como en el conjunto de entrenamiento como en el de pruebas, la cantidad de vinos de buena calidad casi es el doble de los de mala calidad."
   ]
  },
  {
   "cell_type": "markdown",
   "metadata": {},
   "source": [
    "### c) Árbol de Clasificación"
   ]
  },
  {
   "cell_type": "markdown",
   "metadata": {},
   "source": [
    "A continuación se entrena el primer modelo para clasificar el vino si es de buena calidad o no, para esto se utilizará <strong>un</strong> árbol de clasificación, la configuración será de 30 niveles de profundida máxima y con el criterio de entropía:"
   ]
  },
  {
   "cell_type": "code",
   "execution_count": 11,
   "metadata": {},
   "outputs": [
    {
     "name": "stdout",
     "output_type": "stream",
     "text": [
      "Miss Classification Loss Tree: 0.224615\n",
      "[Single Tree] F1 Score train: 1.0\n",
      "[Single Tree] F1 Score test: 0.822901504124\n"
     ]
    }
   ],
   "source": [
    "from sklearn.tree import DecisionTreeClassifier as Tree\n",
    "from sklearn.metrics import accuracy_score\n",
    "import matplotlib.pyplot as plt\n",
    "\n",
    "n = 30# Tree depth \n",
    "\n",
    "model = Tree() \n",
    "model.set_params(max_depth=n,criterion='entropy',splitter='best')\n",
    "model.fit(X_train,y_train)\n",
    "y_pred_test = model.predict(X_test)\n",
    "y_pred_train = model.predict(X_train)\n",
    "print(\"Miss Classification Loss Tree: %f\"%(1-accuracy_score(y_test, y_pred_test)))\n",
    "\n",
    "#F1-Score\n",
    "from sklearn.metrics import f1_score\n",
    "print(\"[Single Tree] F1 Score train:\",f1_score(y_train, y_pred_train))\n",
    "print(\"[Single Tree] F1 Score test:\", f1_score(y_test, y_pred_test))"
   ]
  },
  {
   "cell_type": "markdown",
   "metadata": {},
   "source": [
    "Con esta configuración se obtiene un error de 22,4% en el conjunto de pruebas, un *F1-score* de 100% en entrenamiento y 82,4% en el conjunto de test. El *F1-score* está definido por:\n",
    "\n",
    "<center>$F_{1} = 2 \\cdot \\frac{PR}{P+R} $</center>"
   ]
  },
  {
   "cell_type": "markdown",
   "metadata": {},
   "source": [
    "Donde,\n",
    "<ul>\n",
    "<li> Precision (P): Capacidad del clasificador de no etiquetar como positiva una muestra que es negativa, y viceversa.</li>\n",
    "<li> Recall (R): Capacidad del clasificador para encontrar todas las muestras positivas/relevantes.</li>\n",
    "<li> F1-Score: Puede interpretarse como una media armónica ponderada de precision y recall.</li>\n",
    "</ul>"
   ]
  },
  {
   "cell_type": "markdown",
   "metadata": {},
   "source": [
    "### d) Ensamblador de árboles de múltiples niveles : Random Forest"
   ]
  },
  {
   "cell_type": "markdown",
   "metadata": {},
   "source": [
    "A continuación se entrenará un ensamblador de árboles multinivel con la técnica de Random Forest:"
   ]
  },
  {
   "cell_type": "code",
   "execution_count": 22,
   "metadata": {},
   "outputs": [
    {
     "data": {
      "image/png": "[encoded data removed]",
      "text/plain": [
       "<matplotlib.figure.Figure at 0x1e7f4938908>"
      ]
     },
     "metadata": {},
     "output_type": "display_data"
    },
    {
     "name": "stdout",
     "output_type": "stream",
     "text": [
      "[Random Forest] Valor máximo de F1-Score test: 0.870677404074\n",
      "[Random Forest] Valor encontrado para una cantidad de niveles: 47\n"
     ]
    }
   ],
   "source": [
    "from sklearn.ensemble import RandomForestClassifier\n",
    "\n",
    "f1_train = []\n",
    "f1_test  = []\n",
    "error_test = []\n",
    "# Variar cantidad de arboles\n",
    "trees = range(1,51)\n",
    "\n",
    "for n in trees:\n",
    "    model = RandomForestClassifier(n_estimators=n,criterion=\"entropy\",max_depth=30,n_jobs=-1,random_state=1)\n",
    "    model.fit(X_train,y_train)\n",
    "    y_pred_test = model.predict(X_test)\n",
    "    y_pred_train = model.predict(X_train)\n",
    "    f1_train.append(f1_score(y_train, y_pred_train))\n",
    "    f1_test.append(f1_score(y_test, y_pred_test))\n",
    "    error_test.append((1-accuracy_score(y_test, y_pred_test)))\n",
    "    \n",
    "\n",
    "f,axarr = plt.subplots(1,figsize=(14,6))\n",
    "axarr.plot(trees,f1_train,'go-',label=\"F1 de entrenamiento\")\n",
    "axarr.plot(trees,f1_test,'ro-',label=\"F1 de prueba\")\n",
    "axarr.set_title(\"F1 Score Random Forest\")\n",
    "axarr.set_xlabel('Cantidad de arboles')\n",
    "axarr.set_ylabel('F1 Score')\n",
    "#axarr.set_xscale('log')\n",
    "axarr.legend(loc=\"lower right\", fancybox= True)\n",
    "plt.show()\n",
    "\n",
    "print(\"[Random Forest] Valor máximo de F1-Score test:\",max(f1_test))\n",
    "print(\"[Random Forest] Valor encontrado para una cantidad de niveles:\",trees[f1_test.index(max(f1_test))])"
   ]
  },
  {
   "cell_type": "code",
   "execution_count": 23,
   "metadata": {},
   "outputs": [
    {
     "name": "stdout",
     "output_type": "stream",
     "text": [
      "[Random Forest] Valor mínimo de error de test: 0.168\n",
      "[Random Forest] Valor encontrado para una cantidad de niveles: 46\n"
     ]
    }
   ],
   "source": [
    "print(\"[Random Forest] Valor mínimo de error de test:\",min(error_test))\n",
    "print(\"[Random Forest] Valor encontrado para una cantidad de niveles:\",trees[error_test.index(min(error_test))])"
   ]
  },
  {
   "cell_type": "markdown",
   "metadata": {},
   "source": [
    "En el gráfico anterior se grafica el *F1-score* con Random Forest, se puede observar un aumento considerable de esta medida en comparación con un único árbol. Con 3 árboles ensamblados ya se obtiene un valor de 82,9%,esto es ya, un valor más alto que el encontrado con uno. Con 46 niveles se encontró el mayor valor de *F1-score* de 87%, esto se condice con el error entregado por la metrica accuracy_score el cual sólo calcula precisión, con un error de 16,67%."
   ]
  },
  {
   "cell_type": "markdown",
   "metadata": {},
   "source": [
    "### e) Ensamblador de árboles de múltiples niveles : AdaBoost"
   ]
  },
  {
   "cell_type": "code",
   "execution_count": 27,
   "metadata": {},
   "outputs": [
    {
     "data": {
      "image/png": "[encoded data removed]",
      "text/plain": [
       "<matplotlib.figure.Figure at 0x1e7f9c83400>"
      ]
     },
     "metadata": {},
     "output_type": "display_data"
    },
    {
     "name": "stdout",
     "output_type": "stream",
     "text": [
      "[AdaBoost] Valor máximo de F1-Score test: 0.823357664234\n",
      "[AdaBoost] Valor encontrado para una cantidad de niveles: 23\n"
     ]
    }
   ],
   "source": [
    "from sklearn.ensemble import AdaBoostClassifier\n",
    "\n",
    "f1_train = []\n",
    "f1_test  = []\n",
    "\n",
    "# Variar cantidad de arboles\n",
    "trees = range(1,51)\n",
    "for n in trees:\n",
    "    model = AdaBoostClassifier(base_estimator=Tree(max_depth=30,criterion=\"entropy\"),n_estimators=n)\n",
    "    model.fit(X_train,y_train)\n",
    "    y_pred_test = model.predict(X_test)\n",
    "    y_pred_train = model.predict(X_train)\n",
    "    f1_train.append(f1_score(y_train, y_pred_train))\n",
    "    f1_test.append(f1_score(y_test, y_pred_test))\n",
    "    \n",
    "f,axarr = plt.subplots(1,figsize=(14,6))\n",
    "axarr.plot(trees,f1_train,'go-',label=\"F1 de entrenamiento\")\n",
    "axarr.plot(trees,f1_test,'ro-',label=\"F1 de prueba\")\n",
    "axarr.set_title(\"F1 Score AdaBoost\")\n",
    "axarr.set_xlabel('Cantidad de arboles')\n",
    "axarr.set_ylabel('F1 Score')\n",
    "#axarr.set_xscale('log')\n",
    "axarr.legend(loc=\"right\", fancybox= True)\n",
    "plt.show()\n",
    "\n",
    "print(\"[AdaBoost] Valor máximo de F1-Score test:\",max(f1_test))\n",
    "print(\"[AdaBoost] Valor encontrado para una cantidad de niveles:\",trees[f1_test.index(max(f1_test))])"
   ]
  },
  {
   "cell_type": "markdown",
   "metadata": {},
   "source": [
    "A diferencia de Random Forest, el máximo valor de *F1-score* alcanzado fue de 82,33%, dando a ver que no es tan eficaz como ésta última técnica. Se mantiene en ese promedio en todo el rango de cantidad de árboles. El error de entrenamiento converge al 100% con toda la cantidad de árboles, pero se aprecia que esto no implica que el modelo se comportará así para datos de prueba, se ve claramente que en el gráfico de RF, hay ensamblados que no logran el 100% en entrenamiento pero de igual manera obtienen mayor score en test."
   ]
  },
  {
   "cell_type": "markdown",
   "metadata": {},
   "source": [
    "### f) Red Neuronal para clasificación"
   ]
  },
  {
   "cell_type": "markdown",
   "metadata": {},
   "source": [
    "El mayor f1-score obtenido es de 87%, veremos si con una red neuronal obtenemos un mejor valor:"
   ]
  },
  {
   "cell_type": "markdown",
   "metadata": {},
   "source": [
    "(f) Entrene alguna otra m\u0013aquina de aprendizaje, elegida por usted, para resolver este problema. Elija los\n",
    "hiper-par\u0013ametros que estime convenientes intentando aumentar el F1-score obtenido por los algoritmos\n",
    "anteriores. Compare y analice estas 4 maneras de resolver el problema de\f",
    "nido en b).\n",
    "\n",
    "### Quizás una red neuronal\n",
    "\n"
   ]
  },
  {
   "cell_type": "code",
   "execution_count": 15,
   "metadata": {},
   "outputs": [
    {
     "name": "stderr",
     "output_type": "stream",
     "text": [
      "Using TensorFlow backend.\n",
      "c:\\anaconda3\\lib\\site-packages\\ipykernel_launcher.py:8: UserWarning: Update your `Dense` call to the Keras 2 API: `Dense(50, input_dim=12, activation=\"relu\", kernel_initializer=\"uniform\")`\n",
      "  \n",
      "c:\\anaconda3\\lib\\site-packages\\ipykernel_launcher.py:10: UserWarning: Update your `Dense` call to the Keras 2 API: `Dense(1, activation=\"softmax\", kernel_initializer=\"uniform\")`\n",
      "  # Remove the CWD from sys.path while we load stuff.\n",
      "c:\\anaconda3\\lib\\site-packages\\keras\\models.py:939: UserWarning: The `nb_epoch` argument in `fit` has been renamed `epochs`.\n",
      "  warnings.warn('The `nb_epoch` argument in `fit` '\n"
     ]
    },
    {
     "name": "stdout",
     "output_type": "stream",
     "text": [
      "Epoch 1/100\n",
      "4872/4872 [==============================] - 2s 335us/step - loss: 5.8442 - acc: 0.6334\n",
      "Epoch 2/100\n",
      "4872/4872 [==============================] - 0s 19us/step - loss: 5.8442 - acc: 0.6334\n",
      "Epoch 3/100\n",
      "4872/4872 [==============================] - 0s 18us/step - loss: 5.8442 - acc: 0.6334\n",
      "Epoch 4/100\n",
      "4872/4872 [==============================] - 0s 19us/step - loss: 5.8442 - acc: 0.6334\n",
      "Epoch 5/100\n",
      "4872/4872 [==============================] - 0s 20us/step - loss: 5.8442 - acc: 0.6334\n",
      "Epoch 6/100\n",
      "4872/4872 [==============================] - 0s 20us/step - loss: 5.8442 - acc: 0.6334\n",
      "Epoch 7/100\n",
      "4872/4872 [==============================] - 0s 21us/step - loss: 5.8442 - acc: 0.6334\n",
      "Epoch 8/100\n",
      "4872/4872 [==============================] - 0s 19us/step - loss: 5.8442 - acc: 0.6334\n",
      "Epoch 9/100\n",
      "4872/4872 [==============================] - 0s 18us/step - loss: 5.8442 - acc: 0.6334\n",
      "Epoch 10/100\n",
      "4872/4872 [==============================] - 0s 18us/step - loss: 5.8442 - acc: 0.6334\n",
      "Epoch 11/100\n",
      "4872/4872 [==============================] - 0s 19us/step - loss: 5.8442 - acc: 0.6334\n",
      "Epoch 12/100\n",
      "4872/4872 [==============================] - 0s 22us/step - loss: 5.8442 - acc: 0.6334\n",
      "Epoch 13/100\n",
      "4872/4872 [==============================] - 0s 80us/step - loss: 5.8442 - acc: 0.6334\n",
      "Epoch 14/100\n",
      "4872/4872 [==============================] - 0s 72us/step - loss: 5.8442 - acc: 0.6334\n",
      "Epoch 15/100\n",
      "4872/4872 [==============================] - 0s 73us/step - loss: 5.8442 - acc: 0.6334\n",
      "Epoch 16/100\n",
      "4872/4872 [==============================] - 0s 74us/step - loss: 5.8442 - acc: 0.6334\n",
      "Epoch 17/100\n",
      "4872/4872 [==============================] - 0s 88us/step - loss: 5.8442 - acc: 0.6334\n",
      "Epoch 18/100\n",
      "4872/4872 [==============================] - 0s 20us/step - loss: 5.8442 - acc: 0.6334\n",
      "Epoch 19/100\n",
      "4872/4872 [==============================] - 0s 18us/step - loss: 5.8442 - acc: 0.6334\n",
      "Epoch 20/100\n",
      "4872/4872 [==============================] - 0s 18us/step - loss: 5.8442 - acc: 0.6334\n",
      "Epoch 21/100\n",
      "4872/4872 [==============================] - 0s 18us/step - loss: 5.8442 - acc: 0.6334\n",
      "Epoch 22/100\n",
      "4872/4872 [==============================] - 0s 19us/step - loss: 5.8442 - acc: 0.6334\n",
      "Epoch 23/100\n",
      "4872/4872 [==============================] - 0s 19us/step - loss: 5.8442 - acc: 0.6334\n",
      "Epoch 24/100\n",
      "4872/4872 [==============================] - 0s 19us/step - loss: 5.8442 - acc: 0.6334\n",
      "Epoch 25/100\n",
      "4872/4872 [==============================] - 0s 20us/step - loss: 5.8442 - acc: 0.6334\n",
      "Epoch 26/100\n",
      "4872/4872 [==============================] - 0s 20us/step - loss: 5.8442 - acc: 0.6334\n",
      "Epoch 27/100\n",
      "4872/4872 [==============================] - 0s 19us/step - loss: 5.8442 - acc: 0.6334\n",
      "Epoch 28/100\n",
      "4872/4872 [==============================] - 0s 19us/step - loss: 5.8442 - acc: 0.6334\n",
      "Epoch 29/100\n",
      "4872/4872 [==============================] - 0s 19us/step - loss: 5.8442 - acc: 0.6334\n",
      "Epoch 30/100\n",
      "4872/4872 [==============================] - 0s 19us/step - loss: 5.8442 - acc: 0.6334\n",
      "Epoch 31/100\n",
      "4872/4872 [==============================] - 0s 19us/step - loss: 5.8442 - acc: 0.6334\n",
      "Epoch 32/100\n",
      "4872/4872 [==============================] - 0s 19us/step - loss: 5.8442 - acc: 0.6334\n",
      "Epoch 33/100\n",
      "4872/4872 [==============================] - 0s 19us/step - loss: 5.8442 - acc: 0.6334\n",
      "Epoch 34/100\n",
      "4872/4872 [==============================] - 0s 19us/step - loss: 5.8442 - acc: 0.6334\n",
      "Epoch 35/100\n",
      "4872/4872 [==============================] - 0s 19us/step - loss: 5.8442 - acc: 0.6334\n",
      "Epoch 36/100\n",
      "4872/4872 [==============================] - 0s 20us/step - loss: 5.8442 - acc: 0.6334\n",
      "Epoch 37/100\n",
      "4872/4872 [==============================] - 0s 19us/step - loss: 5.8442 - acc: 0.6334\n",
      "Epoch 38/100\n",
      "4872/4872 [==============================] - 0s 19us/step - loss: 5.8442 - acc: 0.6334\n",
      "Epoch 39/100\n",
      "4872/4872 [==============================] - 0s 21us/step - loss: 5.8442 - acc: 0.6334\n",
      "Epoch 40/100\n",
      "4872/4872 [==============================] - 0s 51us/step - loss: 5.8442 - acc: 0.6334\n",
      "Epoch 41/100\n",
      "4872/4872 [==============================] - 0s 67us/step - loss: 5.8442 - acc: 0.6334\n",
      "Epoch 42/100\n",
      "4872/4872 [==============================] - 0s 81us/step - loss: 5.8442 - acc: 0.6334\n",
      "Epoch 43/100\n",
      "4872/4872 [==============================] - 0s 65us/step - loss: 5.8442 - acc: 0.6334\n",
      "Epoch 44/100\n",
      "4872/4872 [==============================] - 0s 62us/step - loss: 5.8442 - acc: 0.6334\n",
      "Epoch 45/100\n",
      "4872/4872 [==============================] - 0s 52us/step - loss: 5.8442 - acc: 0.6334\n",
      "Epoch 46/100\n",
      "4872/4872 [==============================] - 0s 18us/step - loss: 5.8442 - acc: 0.6334\n",
      "Epoch 47/100\n",
      "4872/4872 [==============================] - 0s 19us/step - loss: 5.8442 - acc: 0.6334\n",
      "Epoch 48/100\n",
      "4872/4872 [==============================] - 0s 19us/step - loss: 5.8442 - acc: 0.6334\n",
      "Epoch 49/100\n",
      "4872/4872 [==============================] - 0s 17us/step - loss: 5.8442 - acc: 0.6334\n",
      "Epoch 50/100\n",
      "4872/4872 [==============================] - 0s 20us/step - loss: 5.8442 - acc: 0.6334\n",
      "Epoch 51/100\n",
      "4872/4872 [==============================] - 0s 18us/step - loss: 5.8442 - acc: 0.6334\n",
      "Epoch 52/100\n",
      "4872/4872 [==============================] - 0s 19us/step - loss: 5.8442 - acc: 0.6334\n",
      "Epoch 53/100\n",
      "4872/4872 [==============================] - 0s 24us/step - loss: 5.8442 - acc: 0.6334\n",
      "Epoch 54/100\n",
      "4872/4872 [==============================] - 0s 26us/step - loss: 5.8442 - acc: 0.6334\n",
      "Epoch 55/100\n",
      "4872/4872 [==============================] - 0s 26us/step - loss: 5.8442 - acc: 0.6334\n",
      "Epoch 56/100\n",
      "4872/4872 [==============================] - 0s 19us/step - loss: 5.8442 - acc: 0.6334\n",
      "Epoch 57/100\n",
      "4872/4872 [==============================] - 0s 29us/step - loss: 5.8442 - acc: 0.6334\n",
      "Epoch 58/100\n",
      "4872/4872 [==============================] - 0s 26us/step - loss: 5.8442 - acc: 0.6334\n",
      "Epoch 59/100\n",
      "4872/4872 [==============================] - 0s 19us/step - loss: 5.8442 - acc: 0.6334\n",
      "Epoch 60/100\n",
      "4872/4872 [==============================] - 0s 19us/step - loss: 5.8442 - acc: 0.6334\n",
      "Epoch 61/100\n",
      "4872/4872 [==============================] - 0s 19us/step - loss: 5.8442 - acc: 0.6334\n",
      "Epoch 62/100\n",
      "4872/4872 [==============================] - 0s 18us/step - loss: 5.8442 - acc: 0.6334\n",
      "Epoch 63/100\n",
      "4872/4872 [==============================] - 0s 22us/step - loss: 5.8442 - acc: 0.6334\n",
      "Epoch 64/100\n",
      "4872/4872 [==============================] - 0s 20us/step - loss: 5.8442 - acc: 0.6334\n",
      "Epoch 65/100\n",
      "4872/4872 [==============================] - 0s 21us/step - loss: 5.8442 - acc: 0.6334\n",
      "Epoch 66/100\n",
      "4872/4872 [==============================] - 0s 19us/step - loss: 5.8442 - acc: 0.6334\n",
      "Epoch 67/100\n",
      "4872/4872 [==============================] - 0s 53us/step - loss: 5.8442 - acc: 0.6334\n",
      "Epoch 68/100\n",
      "4872/4872 [==============================] - 0s 62us/step - loss: 5.8442 - acc: 0.6334\n",
      "Epoch 69/100\n",
      "4872/4872 [==============================] - 0s 61us/step - loss: 5.8442 - acc: 0.6334\n",
      "Epoch 70/100\n",
      "4872/4872 [==============================] - 0s 56us/step - loss: 5.8442 - acc: 0.6334\n",
      "Epoch 71/100\n",
      "4872/4872 [==============================] - 0s 61us/step - loss: 5.8442 - acc: 0.6334\n",
      "Epoch 72/100\n",
      "4872/4872 [==============================] - 0s 67us/step - loss: 5.8442 - acc: 0.6334\n",
      "Epoch 73/100\n",
      "4872/4872 [==============================] - 0s 36us/step - loss: 5.8442 - acc: 0.6334\n",
      "Epoch 74/100\n",
      "4872/4872 [==============================] - 0s 19us/step - loss: 5.8442 - acc: 0.6334\n",
      "Epoch 75/100\n",
      "4872/4872 [==============================] - 0s 19us/step - loss: 5.8442 - acc: 0.6334\n",
      "Epoch 76/100\n",
      "4872/4872 [==============================] - 0s 20us/step - loss: 5.8442 - acc: 0.6334\n",
      "Epoch 77/100\n",
      "4872/4872 [==============================] - 0s 17us/step - loss: 5.8442 - acc: 0.6334\n",
      "Epoch 78/100\n",
      "4872/4872 [==============================] - 0s 20us/step - loss: 5.8442 - acc: 0.6334\n",
      "Epoch 79/100\n",
      "4872/4872 [==============================] - 0s 19us/step - loss: 5.8442 - acc: 0.6334\n",
      "Epoch 80/100\n",
      "4872/4872 [==============================] - 0s 30us/step - loss: 5.8442 - acc: 0.6334\n",
      "Epoch 81/100\n",
      "4872/4872 [==============================] - 0s 56us/step - loss: 5.8442 - acc: 0.6334\n",
      "Epoch 82/100\n",
      "4872/4872 [==============================] - 0s 57us/step - loss: 5.8442 - acc: 0.6334\n",
      "Epoch 83/100\n"
     ]
    },
    {
     "name": "stdout",
     "output_type": "stream",
     "text": [
      "4872/4872 [==============================] - 0s 58us/step - loss: 5.8442 - acc: 0.6334\n",
      "Epoch 84/100\n",
      "4872/4872 [==============================] - 0s 66us/step - loss: 5.8442 - acc: 0.6334\n",
      "Epoch 85/100\n",
      "4872/4872 [==============================] - 0s 62us/step - loss: 5.8442 - acc: 0.6334\n",
      "Epoch 86/100\n",
      "4872/4872 [==============================] - 0s 50us/step - loss: 5.8442 - acc: 0.6334\n",
      "Epoch 87/100\n",
      "4872/4872 [==============================] - 0s 24us/step - loss: 5.8442 - acc: 0.6334\n",
      "Epoch 88/100\n",
      "4872/4872 [==============================] - 0s 19us/step - loss: 5.8442 - acc: 0.6334\n",
      "Epoch 89/100\n",
      "4872/4872 [==============================] - 0s 18us/step - loss: 5.8442 - acc: 0.6334\n",
      "Epoch 90/100\n",
      "4872/4872 [==============================] - 0s 17us/step - loss: 5.8442 - acc: 0.6334\n",
      "Epoch 91/100\n",
      "4872/4872 [==============================] - 0s 17us/step - loss: 5.8442 - acc: 0.6334\n",
      "Epoch 92/100\n",
      "4872/4872 [==============================] - 0s 17us/step - loss: 5.8442 - acc: 0.6334\n",
      "Epoch 93/100\n",
      "4872/4872 [==============================] - 0s 17us/step - loss: 5.8442 - acc: 0.6334\n",
      "Epoch 94/100\n",
      "4872/4872 [==============================] - 0s 17us/step - loss: 5.8442 - acc: 0.6334\n",
      "Epoch 95/100\n",
      "4872/4872 [==============================] - 0s 17us/step - loss: 5.8442 - acc: 0.6334\n",
      "Epoch 96/100\n",
      "4872/4872 [==============================] - 0s 18us/step - loss: 5.8442 - acc: 0.6334\n",
      "Epoch 97/100\n",
      "4872/4872 [==============================] - 0s 16us/step - loss: 5.8442 - acc: 0.6334\n",
      "Epoch 98/100\n",
      "4872/4872 [==============================] - 0s 19us/step - loss: 5.8442 - acc: 0.6334\n",
      "Epoch 99/100\n",
      "4872/4872 [==============================] - 0s 18us/step - loss: 5.8442 - acc: 0.6334\n",
      "Epoch 100/100\n",
      "4872/4872 [==============================] - 0s 50us/step - loss: 5.8442 - acc: 0.6334\n",
      "1625/1625 [==============================] - 0s 159us/step\n",
      "test accuracy: 0.63199999978\n"
     ]
    },
    {
     "data": {
      "text/plain": [
       "0.77450980392156854"
      ]
     },
     "execution_count": 15,
     "metadata": {},
     "output_type": "execute_result"
    }
   ],
   "source": [
    "from keras.models import Sequential\n",
    "from keras.layers import Dense, Activation\n",
    "from keras.optimizers import SGD,Adagrad\n",
    "from keras.utils.np_utils import to_categorical\n",
    "\n",
    "\n",
    "model = Sequential()\n",
    "model.add(Dense(50, input_dim=X_train.shape[1], init='uniform', activation='relu'))\n",
    "model.add(Dense(50, activation='relu'))\n",
    "model.add(Dense(1, init='uniform', activation='softmax'))\n",
    "model.compile(optimizer=Adagrad(lr=0.01), loss='binary_crossentropy', metrics=['accuracy'])\n",
    "model.fit(X_train,y_train, nb_epoch=100, batch_size=128, verbose=1)\n",
    "evaluate = model.evaluate(X_test,y_test) \n",
    "y_red = model.predict(X_test)\n",
    "\n",
    "print(\"test accuracy:\",evaluate[1])\n",
    "f1_score(y_test, y_red)\n",
    "\n"
   ]
  },
  {
   "cell_type": "markdown",
   "metadata": {},
   "source": [
    "## SVM no lineal ?"
   ]
  },
  {
   "cell_type": "code",
   "execution_count": 16,
   "metadata": {},
   "outputs": [
    {
     "name": "stdout",
     "output_type": "stream",
     "text": [
      "F1-Score: 0.782677791021\n"
     ]
    }
   ],
   "source": [
    "from sklearn.svm import SVC as SVM\n",
    "\n",
    "model= SVM()\n",
    "model.set_params(C=0.001,kernel='linear')\n",
    "model.fit(X_train,y_train)\n",
    "y_pred = model.predict(X_test)\n",
    "#poly,rbf,sigmoid dan error > 90!, lineal salva.\n",
    "print(\"F1-Score:\",f1_score(y_test,y_pred))"
   ]
  },
  {
   "cell_type": "markdown",
   "metadata": {},
   "source": [
    "Ninguna de las técnicas aplicadas al problema superan el f1-score obtenido con Random Forest. Por lo tanto se puede concluir que esta técnica es la mejor  para este ejercicio."
   ]
  },
  {
   "cell_type": "markdown",
   "metadata": {},
   "source": [
    "### g) Importancia de atributos en Random Forest"
   ]
  },
  {
   "cell_type": "code",
   "execution_count": null,
   "metadata": {},
   "outputs": [],
   "source": [
    "(g) Defina un criterio para estimar la importancia de los distintos atributos en el ensamblado de Ran-\n",
    "dom Forest, implementelo sobre alguno de los ensambladores entrenados en d), haga un ranking de\n",
    "importancia de atributos >Es posible implementar este criterio sobre una tecnica de boost como lo es\n",
    "AdaBoost?"
   ]
  }
 ],
 "metadata": {
  "kernelspec": {
   "display_name": "Python 3",
   "language": "python",
   "name": "python3"
  },
  "language_info": {
   "codemirror_mode": {
    "name": "ipython",
    "version": 3
   },
   "file_extension": ".py",
   "mimetype": "text/x-python",
   "name": "python",
   "nbconvert_exporter": "python",
   "pygments_lexer": "ipython3",
   "version": "3.6.3"
  }
 },
 "nbformat": 4,
 "nbformat_minor": 2
}
