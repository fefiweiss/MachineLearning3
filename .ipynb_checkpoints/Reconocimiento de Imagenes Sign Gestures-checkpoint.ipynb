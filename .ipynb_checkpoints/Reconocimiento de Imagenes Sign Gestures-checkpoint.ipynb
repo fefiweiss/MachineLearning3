{
 "cells": [
  {
   "cell_type": "markdown",
   "metadata": {},
   "source": [
    "   # 4. Reconocimiento de Imágenes Sign Gestures"
   ]
  },
  {
   "cell_type": "markdown",
   "metadata": {},
   "source": [
    "En este ejercicio se utilizará el dataset de Sign Gestures el que consiste en 32627 imagenes donde en cada una hay una letra en lenguaje de señas. El dataset viene separado en 27455 ejemplos de entrenamiento y 7172 de pruebas. Las clases son mutuamente excluyentes y las imagenes tienen una resolución de 28x28 pixeles representados en una escala de grises 0-255."
   ]
  },
  {
   "cell_type": "markdown",
   "metadata": {},
   "source": [
    "### a) Carga de datos"
   ]
  },
  {
   "cell_type": "code",
   "execution_count": 1,
   "metadata": {},
   "outputs": [
    {
     "name": "stdout",
     "output_type": "stream",
     "text": [
      "Conjunto de entrenamiento:  (21964, 784)\n",
      "Conjunto de validación:  (5491, 784)\n",
      "Conjunto de entrenamiento:  (7172, 784)\n"
     ]
    }
   ],
   "source": [
    "import pandas as pd\n",
    "from sklearn.model_selection import train_test_split\n",
    "\n",
    "def load_data():\n",
    "    train = pd.read_csv('sign_mnist_train.csv')\n",
    "    test = pd.read_csv('sign_mnist_test.csv')\n",
    "    y_tr = train['label']\n",
    "    x_tr = train.iloc[:,1:]\n",
    "    delete_from_train = int(0.2*len(x_tr))\n",
    "    validate = len(x_tr) - delete_from_train\n",
    "    #you need to add Xval: x_v,y_v\n",
    "    x_v = train.iloc[validate:len(x_tr),1:]\n",
    "    y_v = train['label'][validate:len(x_tr)]\n",
    "    y_tr = y_tr.drop(y_tr.tail(delete_from_train).index)\n",
    "    x_tr = x_tr.drop(x_tr.tail(delete_from_train).index)\n",
    "    y_t = test['label']\n",
    "    x_t = test.iloc[:,1:]\n",
    "    \n",
    "    \n",
    "    return(x_tr,x_v,x_t,y_tr,y_v,y_t)\n",
    "x_tr, x_v, x_t, y_tr, y_v , y_t= load_data()\n",
    "print(\"Conjunto de entrenamiento: \",x_tr.shape)\n",
    "print(\"Conjunto de validación: \",x_v.shape)\n",
    "print(\"Conjunto de entrenamiento: \",x_t.shape)\n"
   ]
  },
  {
   "cell_type": "code",
   "execution_count": 78,
   "metadata": {},
   "outputs": [
    {
     "name": "stdout",
     "output_type": "stream",
     "text": [
      "784\n",
      "Etiqueta: 6\n"
     ]
    },
    {
     "data": {
      "image/png": "[encoded data removed]",
      "text/plain": [
       "<matplotlib.figure.Figure at 0x25fc9ee4550>"
      ]
     },
     "metadata": {},
     "output_type": "display_data"
    },
    {
     "name": "stdout",
     "output_type": "stream",
     "text": [
      "Etiqueta: 2\n"
     ]
    },
    {
     "data": {
      "image/png": "[encoded data removed]",
      "text/plain": [
       "<matplotlib.figure.Figure at 0x25fc9ee48d0>"
      ]
     },
     "metadata": {},
     "output_type": "display_data"
    }
   ],
   "source": [
    "import matplotlib.pyplot as plt\n",
    "import matplotlib.image as mpimg\n",
    "import numpy as np\n",
    "X = x_tr.values\n",
    "print(len(X[0]))\n",
    "\n",
    "def ver_imagen(X,y,n):\n",
    "    print(\"Etiqueta:\",y[n])\n",
    "    images = X[n].reshape(28, 28)\n",
    "    plt.imshow(images)\n",
    "    plt.show()\n",
    "\n",
    "#Ejemplos\n",
    "ver_imagen(X,y_tr,1)\n",
    "ver_imagen(X,y_tr,2)\n"
   ]
  },
  {
   "cell_type": "markdown",
   "metadata": {},
   "source": [
    "En la celda anterior, se generaron 2 matrices corespondiente a las imágenes y etiquetas de entrenamiento : $X_{tr},y_{tr}$ ambos poseen 21964 elementos. Se dividió este dataset para crear el conjunto de validación, el cual corresponde al 20% de elementos del conjunto de entrenamiento, por lo tanto, $X_{v},y_{v}$ poseen 5491 elementos. El conjunto de pruebas $X_{t},y_{t}$ en el cual se evaluarán los distintos algoritmos está compuesto de 7172. Cabe recordar que cada imagen está guardada como un arreglo de 28x28 , esto es de 784 pixeles."
   ]
  },
  {
   "cell_type": "markdown",
   "metadata": {},
   "source": [
    "### b) Pre-procesamiento de imágenes"
   ]
  },
  {
   "cell_type": "markdown",
   "metadata": {},
   "source": [
    "En la siguiente celda se construye una función que tiene 2 opciones, una consiste en **sólo escalar** los datos, esto es dividir por la intensidad máxima de pixel en el dataset, la otra **centra y escala** los datos según su varianza."
   ]
  },
  {
   "cell_type": "code",
   "execution_count": 2,
   "metadata": {},
   "outputs": [],
   "source": [
    "# Escalar y centrar datos\n",
    "from sklearn.preprocessing import StandardScaler\n",
    "\n",
    "def scaler_t(X,Xv,Xt,scaler_type):\n",
    "    if scaler_type == \"escalar\":\n",
    "        scaler= StandardScaler(with_std=False).fit(X)\n",
    "        print(\"Se han escalado las imágenes\")\n",
    "        return scaler.transform(X), scaler.transform(Xv), scaler.transform(Xt)\n",
    "    elif scaler_type == \"centrar_escalar\":\n",
    "        scaler= StandardScaler(with_std=True).fit(X)\n",
    "        print(\"Se han centrado y escalado las imágenes\")\n",
    "        return scaler.transform(X), scaler.transform(Xv), scaler.transform(Xt)\n",
    "    else: #otro\n",
    "        print(\"Opción no registrada\")\n",
    "\n",
    "\n"
   ]
  },
  {
   "cell_type": "markdown",
   "metadata": {},
   "source": [
    "### c) Diseñar y entrenar una red neuronal con error de pruebas < 0.2 "
   ]
  },
  {
   "cell_type": "markdown",
   "metadata": {},
   "source": [
    "En este item se pide diseñar, entrenar y evaluar una red con distintas representaciones y arquitecturas con tal de obtener un error menor al 20% en el conjunto de prueba. Para analizar cual de los modelos probar, se utilizará el conjunto de validación."
   ]
  },
  {
   "cell_type": "code",
   "execution_count": 7,
   "metadata": {},
   "outputs": [
    {
     "name": "stdout",
     "output_type": "stream",
     "text": [
      "Se han centrado y escalado las imágenes\n"
     ]
    }
   ],
   "source": [
    "# Creacion de conjuntos centrados y escalados.\n",
    "px_tr,px_v,px_t = scaler_t(x_tr,x_v,x_t,\"centrar_escalar\")\n",
    "from keras.models import Sequential\n",
    "from keras.layers import Dense, Activation,Dropout\n",
    "from keras.optimizers import SGD\n",
    "from keras.utils.np_utils import to_categorical"
   ]
  },
  {
   "cell_type": "markdown",
   "metadata": {},
   "source": [
    "En primera instancia analizaremos cómo se comporta la red con la representación **original** , con una configuración con 3 capas ocultas, y función de pérdida categorical_crossentropy por el carácter multilabel de la clasificación, se realizarán 100 epochs : "
   ]
  },
  {
   "cell_type": "code",
   "execution_count": 29,
   "metadata": {},
   "outputs": [
    {
     "name": "stderr",
     "output_type": "stream",
     "text": [
      "c:\\anaconda3\\lib\\site-packages\\ipykernel_launcher.py:7: UserWarning: Update your `Dense` call to the Keras 2 API: `Dense(30, input_dim=784, activation=\"relu\", kernel_initializer=\"uniform\")`\n",
      "  import sys\n",
      "c:\\anaconda3\\lib\\site-packages\\ipykernel_launcher.py:8: UserWarning: Update your `Dense` call to the Keras 2 API: `Dense(30, activation=\"relu\", kernel_initializer=\"uniform\")`\n",
      "  \n",
      "c:\\anaconda3\\lib\\site-packages\\ipykernel_launcher.py:9: UserWarning: Update your `Dense` call to the Keras 2 API: `Dense(25, activation=\"softmax\", kernel_initializer=\"uniform\")`\n",
      "  if __name__ == '__main__':\n",
      "c:\\anaconda3\\lib\\site-packages\\keras\\models.py:939: UserWarning: The `nb_epoch` argument in `fit` has been renamed `epochs`.\n",
      "  warnings.warn('The `nb_epoch` argument in `fit` '\n"
     ]
    },
    {
     "name": "stdout",
     "output_type": "stream",
     "text": [
      "Epoch 1/50\n",
      "21964/21964 [==============================] - 8s 344us/step - loss: 15.2950 - acc: 0.0445\n",
      "Epoch 2/50\n",
      "21964/21964 [==============================] - 4s 186us/step - loss: 15.3931 - acc: 0.0450\n",
      "Epoch 3/50\n",
      "21964/21964 [==============================] - 4s 187us/step - loss: 15.3931 - acc: 0.0450\n",
      "Epoch 4/50\n",
      "21964/21964 [==============================] - 4s 191us/step - loss: 15.3931 - acc: 0.0450\n",
      "Epoch 5/50\n",
      "21964/21964 [==============================] - 4s 190us/step - loss: 15.3931 - acc: 0.0450\n",
      "Epoch 6/50\n",
      "21964/21964 [==============================] - 4s 187us/step - loss: 15.3931 - acc: 0.0450\n",
      "Epoch 7/50\n",
      "21964/21964 [==============================] - 4s 189us/step - loss: 15.3931 - acc: 0.0450\n",
      "Epoch 8/50\n",
      "21964/21964 [==============================] - 4s 193us/step - loss: 15.3931 - acc: 0.0450\n",
      "Epoch 9/50\n",
      "21964/21964 [==============================] - 4s 193us/step - loss: 15.3931 - acc: 0.0450\n",
      "Epoch 10/50\n",
      "21964/21964 [==============================] - 4s 188us/step - loss: 15.3931 - acc: 0.0450\n",
      "Epoch 11/50\n",
      "21964/21964 [==============================] - 4s 193us/step - loss: 15.3931 - acc: 0.0450\n",
      "Epoch 12/50\n",
      "21964/21964 [==============================] - 4s 195us/step - loss: 15.3931 - acc: 0.0450\n",
      "Epoch 13/50\n",
      "21964/21964 [==============================] - 4s 200us/step - loss: 15.3931 - acc: 0.0450\n",
      "Epoch 14/50\n",
      "21964/21964 [==============================] - 4s 201us/step - loss: 15.3931 - acc: 0.0450\n",
      "Epoch 15/50\n",
      "21964/21964 [==============================] - 5s 220us/step - loss: 15.3931 - acc: 0.0450\n",
      "Epoch 16/50\n",
      "21964/21964 [==============================] - 5s 226us/step - loss: 15.3931 - acc: 0.0450\n",
      "Epoch 17/50\n",
      "21964/21964 [==============================] - 4s 198us/step - loss: 15.3931 - acc: 0.0450\n",
      "Epoch 18/50\n",
      "21964/21964 [==============================] - 4s 195us/step - loss: 15.3931 - acc: 0.0450\n",
      "Epoch 19/50\n",
      "21964/21964 [==============================] - 4s 193us/step - loss: 15.3931 - acc: 0.0450\n",
      "Epoch 20/50\n",
      "21964/21964 [==============================] - 4s 195us/step - loss: 15.3931 - acc: 0.0450\n",
      "Epoch 21/50\n",
      "21964/21964 [==============================] - 4s 197us/step - loss: 15.3931 - acc: 0.0450\n",
      "Epoch 22/50\n",
      "21964/21964 [==============================] - 4s 187us/step - loss: 15.3931 - acc: 0.0450\n",
      "Epoch 23/50\n",
      "21964/21964 [==============================] - 4s 193us/step - loss: 15.3931 - acc: 0.0450\n",
      "Epoch 24/50\n",
      "21964/21964 [==============================] - 4s 194us/step - loss: 15.3931 - acc: 0.0450\n",
      "Epoch 25/50\n",
      "21964/21964 [==============================] - 4s 201us/step - loss: 15.3931 - acc: 0.04500s - los\n",
      "Epoch 26/50\n",
      "21964/21964 [==============================] - 4s 196us/step - loss: 15.3931 - acc: 0.0450\n",
      "Epoch 27/50\n",
      "21964/21964 [==============================] - 4s 198us/step - loss: 15.3931 - acc: 0.0450\n",
      "Epoch 28/50\n",
      "21964/21964 [==============================] - 4s 192us/step - loss: 15.3931 - acc: 0.0450\n",
      "Epoch 29/50\n",
      "21964/21964 [==============================] - 4s 200us/step - loss: 15.3931 - acc: 0.0450\n",
      "Epoch 30/50\n",
      "21964/21964 [==============================] - 4s 195us/step - loss: 15.3931 - acc: 0.0450\n",
      "Epoch 31/50\n",
      "21964/21964 [==============================] - 4s 193us/step - loss: 15.3931 - acc: 0.0450\n",
      "Epoch 32/50\n",
      "21964/21964 [==============================] - 4s 194us/step - loss: 15.3931 - acc: 0.0450\n",
      "Epoch 33/50\n",
      "21964/21964 [==============================] - 4s 197us/step - loss: 15.3931 - acc: 0.0450\n",
      "Epoch 34/50\n",
      "21964/21964 [==============================] - 4s 197us/step - loss: 15.3931 - acc: 0.0450\n",
      "Epoch 35/50\n",
      "21964/21964 [==============================] - 4s 194us/step - loss: 15.3931 - acc: 0.0450\n",
      "Epoch 36/50\n",
      "21964/21964 [==============================] - 4s 191us/step - loss: 15.3931 - acc: 0.0450\n",
      "Epoch 37/50\n",
      "21964/21964 [==============================] - 4s 193us/step - loss: 15.3931 - acc: 0.0450\n",
      "Epoch 38/50\n",
      "21964/21964 [==============================] - 4s 193us/step - loss: 15.3931 - acc: 0.0450\n",
      "Epoch 39/50\n",
      "21964/21964 [==============================] - 4s 193us/step - loss: 15.3931 - acc: 0.0450\n",
      "Epoch 40/50\n",
      "21964/21964 [==============================] - 4s 192us/step - loss: 15.3931 - acc: 0.0450\n",
      "Epoch 41/50\n",
      "21964/21964 [==============================] - 4s 192us/step - loss: 15.3931 - acc: 0.0450\n",
      "Epoch 42/50\n",
      "21964/21964 [==============================] - 4s 192us/step - loss: 15.3931 - acc: 0.0450\n",
      "Epoch 43/50\n",
      "21964/21964 [==============================] - 4s 189us/step - loss: 15.3931 - acc: 0.0450\n",
      "Epoch 44/50\n",
      "21964/21964 [==============================] - 4s 192us/step - loss: 15.3931 - acc: 0.0450\n",
      "Epoch 45/50\n",
      "21964/21964 [==============================] - 4s 190us/step - loss: 15.3931 - acc: 0.0450\n",
      "Epoch 46/50\n",
      "21964/21964 [==============================] - 4s 194us/step - loss: 15.3931 - acc: 0.0450\n",
      "Epoch 47/50\n",
      "21964/21964 [==============================] - 5s 206us/step - loss: 15.3931 - acc: 0.0450\n",
      "Epoch 48/50\n",
      "21964/21964 [==============================] - 5s 220us/step - loss: 15.3931 - acc: 0.0450\n",
      "Epoch 49/50\n",
      "21964/21964 [==============================] - 5s 219us/step - loss: 15.3931 - acc: 0.0450\n",
      "Epoch 50/50\n",
      "21964/21964 [==============================] - 5s 221us/step - loss: 15.3931 - acc: 0.0450\n",
      "5491/5491 [==============================] - 3s 491us/step\n",
      "test accuracy: 0.052995811329\n"
     ]
    }
   ],
   "source": [
    "model = Sequential()\n",
    "model.add(Dense(30, input_dim=x_tr.shape[1], init='uniform', activation='relu'))\n",
    "model.add(Dense(30, init='uniform', activation='relu'))\n",
    "model.add(Dense(25, init='uniform', activation='softmax'))\n",
    "model.compile(optimizer=SGD(lr=0.05), loss='categorical_crossentropy', metrics=['accuracy'])\n",
    "model.fit(x_tr, to_categorical(y_tr), nb_epoch=50, batch_size=128, verbose=1)\n",
    "evaluate = model.evaluate(x_v,to_categorical(y_v)) \n",
    "print(\"test accuracy:\",evaluate[1])"
   ]
  },
  {
   "cell_type": "markdown",
   "metadata": {},
   "source": [
    "Realizaremos el mismo procedimiento pero con la representación centrada y escalada : "
   ]
  },
  {
   "cell_type": "code",
   "execution_count": 30,
   "metadata": {},
   "outputs": [
    {
     "name": "stderr",
     "output_type": "stream",
     "text": [
      "c:\\anaconda3\\lib\\site-packages\\ipykernel_launcher.py:2: UserWarning: Update your `Dense` call to the Keras 2 API: `Dense(30, input_dim=784, activation=\"relu\", kernel_initializer=\"uniform\")`\n",
      "  \n",
      "c:\\anaconda3\\lib\\site-packages\\ipykernel_launcher.py:3: UserWarning: Update your `Dense` call to the Keras 2 API: `Dense(30, activation=\"relu\", kernel_initializer=\"uniform\")`\n",
      "  This is separate from the ipykernel package so we can avoid doing imports until\n",
      "c:\\anaconda3\\lib\\site-packages\\ipykernel_launcher.py:4: UserWarning: Update your `Dense` call to the Keras 2 API: `Dense(25, activation=\"softmax\", kernel_initializer=\"uniform\")`\n",
      "  after removing the cwd from sys.path.\n",
      "c:\\anaconda3\\lib\\site-packages\\keras\\models.py:939: UserWarning: The `nb_epoch` argument in `fit` has been renamed `epochs`.\n",
      "  warnings.warn('The `nb_epoch` argument in `fit` '\n"
     ]
    },
    {
     "name": "stdout",
     "output_type": "stream",
     "text": [
      "Epoch 1/50\n",
      "21964/21964 [==============================] - 7s 305us/step - loss: 3.1989 - acc: 0.0859\n",
      "Epoch 2/50\n",
      "21964/21964 [==============================] - 4s 187us/step - loss: 2.9280 - acc: 0.1365\n",
      "Epoch 3/50\n",
      "21964/21964 [==============================] - 4s 195us/step - loss: 2.2820 - acc: 0.2643\n",
      "Epoch 4/50\n",
      "21964/21964 [==============================] - 4s 201us/step - loss: 1.6295 - acc: 0.4490\n",
      "Epoch 5/50\n",
      "21964/21964 [==============================] - 5s 207us/step - loss: 1.1310 - acc: 0.6212\n",
      "Epoch 6/50\n",
      "21964/21964 [==============================] - 4s 204us/step - loss: 0.7851 - acc: 0.7458\n",
      "Epoch 7/50\n",
      "21964/21964 [==============================] - 5s 210us/step - loss: 0.5462 - acc: 0.8380\n",
      "Epoch 8/50\n",
      "21964/21964 [==============================] - 5s 214us/step - loss: 0.3695 - acc: 0.9036\n",
      "Epoch 9/50\n",
      "21964/21964 [==============================] - 4s 204us/step - loss: 0.2422 - acc: 0.9483\n",
      "Epoch 10/50\n",
      "21964/21964 [==============================] - 5s 211us/step - loss: 0.1583 - acc: 0.9747\n",
      "Epoch 11/50\n",
      "21964/21964 [==============================] - 5s 219us/step - loss: 0.1047 - acc: 0.9886\n",
      "Epoch 12/50\n",
      "21964/21964 [==============================] - 5s 214us/step - loss: 0.0716 - acc: 0.9959 1s - l\n",
      "Epoch 13/50\n",
      "21964/21964 [==============================] - 5s 205us/step - loss: 0.0505 - acc: 0.9985\n",
      "Epoch 14/50\n",
      "21964/21964 [==============================] - 5s 205us/step - loss: 0.0378 - acc: 0.9989\n",
      "Epoch 15/50\n",
      "21964/21964 [==============================] - 5s 210us/step - loss: 0.0292 - acc: 0.9996\n",
      "Epoch 16/50\n",
      "21964/21964 [==============================] - 5s 210us/step - loss: 0.0234 - acc: 0.9997\n",
      "Epoch 17/50\n",
      "21964/21964 [==============================] - 5s 217us/step - loss: 0.0194 - acc: 0.9998\n",
      "Epoch 18/50\n",
      "21964/21964 [==============================] - 5s 217us/step - loss: 0.0163 - acc: 1.0000\n",
      "Epoch 19/50\n",
      "21964/21964 [==============================] - 5s 215us/step - loss: 0.0140 - acc: 1.0000\n",
      "Epoch 20/50\n",
      "21964/21964 [==============================] - 5s 215us/step - loss: 0.0122 - acc: 1.0000\n",
      "Epoch 21/50\n",
      "21964/21964 [==============================] - 5s 213us/step - loss: 0.0107 - acc: 1.0000\n",
      "Epoch 22/50\n",
      "21964/21964 [==============================] - 5s 212us/step - loss: 0.0096 - acc: 1.0000\n",
      "Epoch 23/50\n",
      "21964/21964 [==============================] - 5s 214us/step - loss: 0.0086 - acc: 1.0000\n",
      "Epoch 24/50\n",
      "21964/21964 [==============================] - 5s 211us/step - loss: 0.0078 - acc: 1.0000\n",
      "Epoch 25/50\n",
      "21964/21964 [==============================] - 5s 210us/step - loss: 0.0072 - acc: 1.0000\n",
      "Epoch 26/50\n",
      "21964/21964 [==============================] - 5s 211us/step - loss: 0.0066 - acc: 1.0000\n",
      "Epoch 27/50\n",
      "21964/21964 [==============================] - 5s 210us/step - loss: 0.0061 - acc: 1.0000\n",
      "Epoch 28/50\n",
      "21964/21964 [==============================] - 5s 208us/step - loss: 0.0057 - acc: 1.0000\n",
      "Epoch 29/50\n",
      "21964/21964 [==============================] - 5s 210us/step - loss: 0.0053 - acc: 1.0000\n",
      "Epoch 30/50\n",
      "21964/21964 [==============================] - 5s 207us/step - loss: 0.0049 - acc: 1.0000ETA: 0s - loss: 0.0049 - acc: 1.0\n",
      "Epoch 31/50\n",
      "21964/21964 [==============================] - 5s 207us/step - loss: 0.0046 - acc: 1.0000 0s - loss: 0.0046 - acc: 1.0\n",
      "Epoch 32/50\n",
      "21964/21964 [==============================] - 4s 205us/step - loss: 0.0043 - acc: 1.0000\n",
      "Epoch 33/50\n",
      "21964/21964 [==============================] - 4s 200us/step - loss: 0.0041 - acc: 1.0000\n",
      "Epoch 34/50\n",
      "21964/21964 [==============================] - 4s 203us/step - loss: 0.0039 - acc: 1.0000\n",
      "Epoch 35/50\n",
      "21964/21964 [==============================] - 4s 204us/step - loss: 0.0037 - acc: 1.0000\n",
      "Epoch 36/50\n",
      "21964/21964 [==============================] - 4s 205us/step - loss: 0.0035 - acc: 1.0000\n",
      "Epoch 37/50\n",
      "21964/21964 [==============================] - 4s 201us/step - loss: 0.0033 - acc: 1.0000\n",
      "Epoch 38/50\n",
      "21964/21964 [==============================] - 4s 203us/step - loss: 0.0032 - acc: 1.0000 1s \n",
      "Epoch 39/50\n",
      "21964/21964 [==============================] - 4s 201us/step - loss: 0.0030 - acc: 1.0000\n",
      "Epoch 40/50\n",
      "21964/21964 [==============================] - 4s 204us/step - loss: 0.0029 - acc: 1.0000\n",
      "Epoch 41/50\n",
      "21964/21964 [==============================] - 4s 197us/step - loss: 0.0028 - acc: 1.0000\n",
      "Epoch 42/50\n",
      "21964/21964 [==============================] - 4s 197us/step - loss: 0.0027 - acc: 1.0000\n",
      "Epoch 43/50\n",
      "21964/21964 [==============================] - 4s 194us/step - loss: 0.0026 - acc: 1.0000 0s - loss: 0.0026 - ac\n",
      "Epoch 44/50\n",
      "21964/21964 [==============================] - 4s 196us/step - loss: 0.0025 - acc: 1.0000\n",
      "Epoch 45/50\n",
      "21964/21964 [==============================] - 4s 195us/step - loss: 0.0024 - acc: 1.0000\n",
      "Epoch 46/50\n",
      "21964/21964 [==============================] - 4s 195us/step - loss: 0.0023 - acc: 1.0000\n",
      "Epoch 47/50\n",
      "21964/21964 [==============================] - 4s 186us/step - loss: 0.0022 - acc: 1.0000\n",
      "Epoch 48/50\n",
      "21964/21964 [==============================] - 4s 188us/step - loss: 0.0021 - acc: 1.0000\n",
      "Epoch 49/50\n",
      "21964/21964 [==============================] - 4s 193us/step - loss: 0.0021 - acc: 1.0000\n",
      "Epoch 50/50\n",
      "21964/21964 [==============================] - 5s 208us/step - loss: 0.0020 - acc: 1.0000\n",
      "5491/5491 [==============================] - 2s 405us/step\n",
      "test accuracy: 0.99981788381\n"
     ]
    }
   ],
   "source": [
    "model = Sequential()\n",
    "model.add(Dense(30, input_dim=px_tr.shape[1], init='uniform', activation='relu'))\n",
    "model.add(Dense(30, init='uniform', activation='relu'))\n",
    "model.add(Dense(25, init='uniform', activation='softmax'))\n",
    "model.compile(optimizer=SGD(lr=0.05), loss='categorical_crossentropy', metrics=['accuracy'])\n",
    "model.fit(px_tr, to_categorical(y_tr), nb_epoch=50, batch_size=128, verbose=1)          \n",
    "evaluate = model.evaluate(px_v,to_categorical(y_v)) \n",
    "print(\"test accuracy:\",evaluate[1])"
   ]
  },
  {
   "cell_type": "code",
   "execution_count": 17,
   "metadata": {},
   "outputs": [
    {
     "name": "stdout",
     "output_type": "stream",
     "text": [
      "7172/7172 [==============================] - 0s 48us/step\n",
      "[2.0101451818595968, 0.68251533742331283]\n",
      "0.99981788381\n"
     ]
    }
   ],
   "source": [
    "from sklearn.metrics import accuracy_score\n",
    "evaluate = model.evaluate(px_t,to_categorical(y_t)) \n",
    "print(evaluate)\n",
    "y_red = model.predict(px_v)\n",
    "y_pred = []\n",
    "for i in range(len(y_red)):\n",
    "    lista = list(y_red[i])\n",
    "    y_pred.append(lista.index(max(y_red[i])))\n",
    "    \n",
    "print(accuracy_score(y_pred,list(y_v)))\n",
    "\n"
   ]
  },
  {
   "cell_type": "markdown",
   "metadata": {},
   "source": [
    "Observando ambas redes y sus métricas en el conjunto de validación, se obtienen mejores resultados con la representación centrada y escalada, por lo tanto, probaremos distintas arquitecturas basadas en esta última representación:"
   ]
  },
  {
   "cell_type": "markdown",
   "metadata": {},
   "source": [
    "#### Variando tasa de aprendizaje"
   ]
  },
  {
   "cell_type": "code",
   "execution_count": 34,
   "metadata": {},
   "outputs": [
    {
     "name": "stderr",
     "output_type": "stream",
     "text": [
      "c:\\anaconda3\\lib\\site-packages\\ipykernel_launcher.py:8: UserWarning: Update your `Dense` call to the Keras 2 API: `Dense(30, input_dim=784, activation=\"relu\", kernel_initializer=\"uniform\")`\n",
      "  \n",
      "c:\\anaconda3\\lib\\site-packages\\ipykernel_launcher.py:9: UserWarning: Update your `Dense` call to the Keras 2 API: `Dense(30, activation=\"relu\", kernel_initializer=\"uniform\")`\n",
      "  if __name__ == '__main__':\n",
      "c:\\anaconda3\\lib\\site-packages\\ipykernel_launcher.py:10: UserWarning: Update your `Dense` call to the Keras 2 API: `Dense(25, activation=\"softmax\", kernel_initializer=\"uniform\")`\n",
      "  # Remove the CWD from sys.path while we load stuff.\n",
      "c:\\anaconda3\\lib\\site-packages\\keras\\models.py:939: UserWarning: The `nb_epoch` argument in `fit` has been renamed `epochs`.\n",
      "  warnings.warn('The `nb_epoch` argument in `fit` '\n"
     ]
    },
    {
     "name": "stdout",
     "output_type": "stream",
     "text": [
      "5491/5491 [==============================] - 1s 114us/step\n",
      "5491/5491 [==============================] - 0s 64us/step\n",
      "5491/5491 [==============================] - 0s 64us/step\n",
      "5491/5491 [==============================] - 0s 62us/step\n",
      "5491/5491 [==============================] - 0s 71us/step\n",
      "5491/5491 [==============================] - 2s 282us/step\n"
     ]
    },
    {
     "data": {
      "image/png": "[encoded data removed]",
      "text/plain": [
       "<matplotlib.figure.Figure at 0x25fbcbd7a20>"
      ]
     },
     "metadata": {},
     "output_type": "display_data"
    }
   ],
   "source": [
    "import numpy as np\n",
    "import matplotlib.pyplot as plt\n",
    "\n",
    "lrs = [0.00001,0.0001,0.001,0.01,0.1,1]\n",
    "accuracys = []\n",
    "for tasa in lrs:\n",
    "    model = Sequential()\n",
    "    model.add(Dense(30, input_dim=px_tr.shape[1], init='uniform', activation='relu'))\n",
    "    model.add(Dense(30, init='uniform', activation='relu'))\n",
    "    model.add(Dense(25, init='uniform', activation='softmax'))\n",
    "    model.compile(optimizer=SGD(lr=tasa), loss='categorical_crossentropy', metrics=['accuracy'])\n",
    "    model.fit(px_tr, to_categorical(y_tr), nb_epoch=50, batch_size=128, verbose=0,\n",
    "              validation_data=(px_v,to_categorical(y_v)))\n",
    "    evaluate = model.evaluate(px_v,to_categorical(y_v)) \n",
    "    accuracys.append(evaluate[1])\n",
    "\n",
    "f,axarr = plt.subplots(1,figsize=(14,6))\n",
    "axarr.plot(lrs,accuracys,'go-',label=\"Accuracy Validation\")\n",
    "axarr.set_title(\"Accuracy vs learning rate\")\n",
    "axarr.set_xlabel(\"lr\")\n",
    "axarr.set_ylabel('Accuracy')\n",
    "axarr.set_xscale('log')\n",
    "axarr.legend(loc=\"lower right\", fancybox= True)\n",
    "plt.show()\n",
    "\n",
    "    \n",
    "    "
   ]
  },
  {
   "cell_type": "markdown",
   "metadata": {},
   "source": [
    "En base al gráfico anterior de *accuracy* en función de la tasa de aprendizaje, se puede observar que en el orden de $10^{-2}$ y $10^{-1}$ se encuentran los valores más altos de esta, por lo que en ese rango se van probando tasas de aprendizaje, luego de realizar un arduo proceso de sintonización se llegó que con una tasa 0.51 se obtiene la mayor *accuracy* .\n"
   ]
  },
  {
   "cell_type": "markdown",
   "metadata": {},
   "source": [
    "A continuación se varía la cantidad de neuronas a 100 en la capa oculta:"
   ]
  },
  {
   "cell_type": "code",
   "execution_count": 38,
   "metadata": {},
   "outputs": [
    {
     "name": "stderr",
     "output_type": "stream",
     "text": [
      "c:\\anaconda3\\lib\\site-packages\\ipykernel_launcher.py:2: UserWarning: Update your `Dense` call to the Keras 2 API: `Dense(30, input_dim=784, activation=\"relu\", kernel_initializer=\"uniform\")`\n",
      "  \n",
      "c:\\anaconda3\\lib\\site-packages\\ipykernel_launcher.py:3: UserWarning: Update your `Dense` call to the Keras 2 API: `Dense(100, activation=\"relu\", kernel_initializer=\"uniform\")`\n",
      "  This is separate from the ipykernel package so we can avoid doing imports until\n",
      "c:\\anaconda3\\lib\\site-packages\\ipykernel_launcher.py:4: UserWarning: Update your `Dense` call to the Keras 2 API: `Dense(25, activation=\"softmax\", kernel_initializer=\"uniform\")`\n",
      "  after removing the cwd from sys.path.\n",
      "c:\\anaconda3\\lib\\site-packages\\keras\\models.py:939: UserWarning: The `nb_epoch` argument in `fit` has been renamed `epochs`.\n",
      "  warnings.warn('The `nb_epoch` argument in `fit` '\n"
     ]
    },
    {
     "name": "stdout",
     "output_type": "stream",
     "text": [
      "Train on 21964 samples, validate on 5491 samples\n",
      "Epoch 1/100\n",
      "21964/21964 [==============================] - 3s 142us/step - loss: 1.6913 - acc: 0.4697 - val_loss: 1.1661 - val_acc: 0.6855\n",
      "Epoch 2/100\n",
      "21964/21964 [==============================] - 3s 138us/step - loss: 0.6550 - acc: 0.8152 - val_loss: 0.3486 - val_acc: 0.9084\n",
      "Epoch 3/100\n",
      "21964/21964 [==============================] - 2s 84us/step - loss: 0.2185 - acc: 0.9519 - val_loss: 0.0107 - val_acc: 0.9993\n",
      "Epoch 4/100\n",
      "21964/21964 [==============================] - 3s 116us/step - loss: 0.0059 - acc: 0.9997 - val_loss: 0.0036 - val_acc: 1.0000\n",
      "Epoch 5/100\n",
      "21964/21964 [==============================] - 3s 131us/step - loss: 0.0024 - acc: 1.0000 - val_loss: 0.0021 - val_acc: 0.9998\n",
      "Epoch 6/100\n",
      "21964/21964 [==============================] - 2s 70us/step - loss: 0.0015 - acc: 1.0000 - val_loss: 0.0015 - val_acc: 1.0000\n",
      "Epoch 7/100\n",
      "21964/21964 [==============================] - 3s 136us/step - loss: 0.0011 - acc: 1.0000 - val_loss: 0.0011 - val_acc: 1.0000\n",
      "Epoch 8/100\n",
      "21964/21964 [==============================] - 2s 73us/step - loss: 8.6980e-04 - acc: 1.0000 - val_loss: 9.6508e-04 - val_acc: 1.0000\n",
      "Epoch 9/100\n",
      "21964/21964 [==============================] - 3s 129us/step - loss: 7.2016e-04 - acc: 1.0000 - val_loss: 8.1083e-04 - val_acc: 1.0000\n",
      "Epoch 10/100\n",
      "21964/21964 [==============================] - 3s 126us/step - loss: 6.1320e-04 - acc: 1.0000 - val_loss: 6.9682e-04 - val_acc: 1.0000\n",
      "Epoch 11/100\n",
      "21964/21964 [==============================] - 3s 118us/step - loss: 5.3348e-04 - acc: 1.0000 - val_loss: 6.4455e-04 - val_acc: 1.0000\n",
      "Epoch 12/100\n",
      "21964/21964 [==============================] - 3s 154us/step - loss: 4.6936e-04 - acc: 1.0000 - val_loss: 5.8204e-04 - val_acc: 1.0000\n",
      "Epoch 13/100\n",
      "21964/21964 [==============================] - 4s 166us/step - loss: 4.2112e-04 - acc: 1.0000 - val_loss: 5.1895e-04 - val_acc: 1.0000\n",
      "Epoch 14/100\n",
      "21964/21964 [==============================] - 4s 195us/step - loss: 3.7990e-04 - acc: 1.0000 - val_loss: 4.8280e-04 - val_acc: 1.0000\n",
      "Epoch 15/100\n",
      "21964/21964 [==============================] - 2s 109us/step - loss: 3.4589e-04 - acc: 1.0000 - val_loss: 4.3529e-04 - val_acc: 1.0000\n",
      "Epoch 16/100\n",
      "21964/21964 [==============================] - 5s 228us/step - loss: 3.1835e-04 - acc: 1.0000 - val_loss: 4.1204e-04 - val_acc: 1.0000\n",
      "Epoch 17/100\n",
      "21964/21964 [==============================] - 3s 135us/step - loss: 2.9354e-04 - acc: 1.0000 - val_loss: 4.0988e-04 - val_acc: 1.0000\n",
      "Epoch 18/100\n",
      "21964/21964 [==============================] - 2s 72us/step - loss: 2.7249e-04 - acc: 1.0000 - val_loss: 3.7201e-04 - val_acc: 1.0000\n",
      "Epoch 19/100\n",
      "21964/21964 [==============================] - 4s 166us/step - loss: 2.5399e-04 - acc: 1.0000 - val_loss: 3.5912e-04 - val_acc: 1.0000\n",
      "Epoch 20/100\n",
      "21964/21964 [==============================] - 4s 184us/step - loss: 2.3789e-04 - acc: 1.0000 - val_loss: 3.5194e-04 - val_acc: 1.0000\n",
      "Epoch 21/100\n",
      "21964/21964 [==============================] - 2s 108us/step - loss: 2.2364e-04 - acc: 1.0000 - val_loss: 3.3614e-04 - val_acc: 1.0000\n",
      "Epoch 22/100\n",
      "21964/21964 [==============================] - 5s 236us/step - loss: 2.1095e-04 - acc: 1.0000 - val_loss: 3.1198e-04 - val_acc: 1.0000\n",
      "Epoch 23/100\n",
      "21964/21964 [==============================] - 3s 139us/step - loss: 1.9929e-04 - acc: 1.0000 - val_loss: 3.0238e-04 - val_acc: 1.0000\n",
      "Epoch 24/100\n",
      "21964/21964 [==============================] - 3s 118us/step - loss: 1.8884e-04 - acc: 1.0000 - val_loss: 3.0033e-04 - val_acc: 1.0000\n",
      "Epoch 25/100\n",
      "21964/21964 [==============================] - 6s 256us/step - loss: 1.7954e-04 - acc: 1.0000 - val_loss: 2.8594e-04 - val_acc: 1.0000\n",
      "Epoch 26/100\n",
      "21964/21964 [==============================] - 3s 123us/step - loss: 1.7087e-04 - acc: 1.0000 - val_loss: 2.6756e-04 - val_acc: 1.0000\n",
      "Epoch 27/100\n",
      "21964/21964 [==============================] - 2s 97us/step - loss: 1.6318e-04 - acc: 1.0000 - val_loss: 2.6945e-04 - val_acc: 1.0000\n",
      "Epoch 28/100\n",
      "21964/21964 [==============================] - 4s 162us/step - loss: 1.5592e-04 - acc: 1.0000 - val_loss: 2.5941e-04 - val_acc: 1.0000\n",
      "Epoch 29/100\n",
      "21964/21964 [==============================] - 4s 172us/step - loss: 1.4922e-04 - acc: 1.0000 - val_loss: 2.5366e-04 - val_acc: 1.0000\n",
      "Epoch 30/100\n",
      "21964/21964 [==============================] - 2s 90us/step - loss: 1.4321e-04 - acc: 1.0000 - val_loss: 2.5232e-04 - val_acc: 1.0000\n",
      "Epoch 31/100\n",
      "21964/21964 [==============================] - 5s 243us/step - loss: 1.3753e-04 - acc: 1.0000 - val_loss: 2.4481e-04 - val_acc: 1.0000\n",
      "Epoch 32/100\n",
      "21964/21964 [==============================] - 2s 72us/step - loss: 1.3237e-04 - acc: 1.0000 - val_loss: 2.4277e-04 - val_acc: 1.0000\n",
      "Epoch 33/100\n",
      "21964/21964 [==============================] - 4s 197us/step - loss: 1.2742e-04 - acc: 1.0000 - val_loss: 2.3715e-04 - val_acc: 1.0000\n",
      "Epoch 34/100\n",
      "21964/21964 [==============================] - 2s 106us/step - loss: 1.2285e-04 - acc: 1.0000 - val_loss: 2.3150e-04 - val_acc: 1.0000\n",
      "Epoch 35/100\n",
      "21964/21964 [==============================] - 3s 141us/step - loss: 1.1866e-04 - acc: 1.0000 - val_loss: 2.2188e-04 - val_acc: 1.0000\n",
      "Epoch 36/100\n",
      "21964/21964 [==============================] - 4s 165us/step - loss: 1.1474e-04 - acc: 1.0000 - val_loss: 2.1791e-04 - val_acc: 1.0000\n",
      "Epoch 37/100\n",
      "21964/21964 [==============================] - 4s 196us/step - loss: 1.1096e-04 - acc: 1.0000 - val_loss: 2.0949e-04 - val_acc: 1.0000\n",
      "Epoch 38/100\n",
      "21964/21964 [==============================] - 4s 175us/step - loss: 1.0742e-04 - acc: 1.0000 - val_loss: 2.0707e-04 - val_acc: 1.0000\n",
      "Epoch 39/100\n",
      "21964/21964 [==============================] - 2s 98us/step - loss: 1.0416e-04 - acc: 1.0000 - val_loss: 2.0047e-04 - val_acc: 1.0000\n",
      "Epoch 40/100\n",
      "21964/21964 [==============================] - 4s 178us/step - loss: 1.0106e-04 - acc: 1.0000 - val_loss: 1.9430e-04 - val_acc: 1.0000\n",
      "Epoch 41/100\n",
      "21964/21964 [==============================] - 4s 175us/step - loss: 9.8143e-05 - acc: 1.0000 - val_loss: 1.9235e-04 - val_acc: 1.0000\n",
      "Epoch 42/100\n",
      "21964/21964 [==============================] - 2s 109us/step - loss: 9.5325e-05 - acc: 1.0000 - val_loss: 1.8622e-04 - val_acc: 1.0000\n",
      "Epoch 43/100\n",
      "21964/21964 [==============================] - 4s 167us/step - loss: 9.2740e-05 - acc: 1.0000 - val_loss: 1.8240e-04 - val_acc: 1.0000\n",
      "Epoch 44/100\n",
      "21964/21964 [==============================] - 5s 234us/step - loss: 9.0239e-05 - acc: 1.0000 - val_loss: 1.7802e-04 - val_acc: 1.0000\n",
      "Epoch 45/100\n",
      "21964/21964 [==============================] - 3s 153us/step - loss: 8.7871e-05 - acc: 1.0000 - val_loss: 1.7240e-04 - val_acc: 1.0000\n",
      "Epoch 46/100\n",
      "21964/21964 [==============================] - 3s 120us/step - loss: 8.5599e-05 - acc: 1.0000 - val_loss: 1.6915e-04 - val_acc: 1.0000\n",
      "Epoch 47/100\n",
      "21964/21964 [==============================] - 3s 153us/step - loss: 8.3460e-05 - acc: 1.0000 - val_loss: 1.6570e-04 - val_acc: 1.0000\n",
      "Epoch 48/100\n",
      "21964/21964 [==============================] - 4s 165us/step - loss: 8.1414e-05 - acc: 1.0000 - val_loss: 1.6136e-04 - val_acc: 1.0000\n",
      "Epoch 49/100\n",
      "21964/21964 [==============================] - 4s 188us/step - loss: 7.9464e-05 - acc: 1.0000 - val_loss: 1.5902e-04 - val_acc: 1.0000\n",
      "Epoch 50/100\n",
      "21964/21964 [==============================] - 2s 111us/step - loss: 7.7602e-05 - acc: 1.0000 - val_loss: 1.5748e-04 - val_acc: 1.0000\n",
      "Epoch 51/100\n",
      "21964/21964 [==============================] - 4s 193us/step - loss: 7.5811e-05 - acc: 1.0000 - val_loss: 1.5484e-04 - val_acc: 1.0000\n",
      "Epoch 52/100\n",
      "21964/21964 [==============================] - 2s 74us/step - loss: 7.4100e-05 - acc: 1.0000 - val_loss: 1.5280e-04 - val_acc: 1.0000\n",
      "Epoch 53/100\n",
      "21964/21964 [==============================] - 5s 243us/step - loss: 7.2454e-05 - acc: 1.0000 - val_loss: 1.4839e-04 - val_acc: 1.0000\n",
      "Epoch 54/100\n",
      "21964/21964 [==============================] - 4s 177us/step - loss: 7.0880e-05 - acc: 1.0000 - val_loss: 1.4732e-04 - val_acc: 1.0000\n",
      "Epoch 55/100\n",
      "21964/21964 [==============================] - 4s 181us/step - loss: 6.9378e-05 - acc: 1.0000 - val_loss: 1.4549e-04 - val_acc: 1.0000\n",
      "Epoch 56/100\n"
     ]
    },
    {
     "name": "stdout",
     "output_type": "stream",
     "text": [
      "21964/21964 [==============================] - 2s 89us/step - loss: 6.7918e-05 - acc: 1.0000 - val_loss: 1.4296e-04 - val_acc: 1.0000\n",
      "Epoch 57/100\n",
      "21964/21964 [==============================] - 3s 144us/step - loss: 6.6527e-05 - acc: 1.0000 - val_loss: 1.4089e-04 - val_acc: 1.0000\n",
      "Epoch 58/100\n",
      "21964/21964 [==============================] - 2s 106us/step - loss: 6.5182e-05 - acc: 1.0000 - val_loss: 1.3768e-04 - val_acc: 1.0000\n",
      "Epoch 59/100\n",
      "21964/21964 [==============================] - 4s 184us/step - loss: 6.3874e-05 - acc: 1.0000 - val_loss: 1.3608e-04 - val_acc: 1.0000\n",
      "Epoch 60/100\n",
      "21964/21964 [==============================] - 3s 142us/step - loss: 6.2642e-05 - acc: 1.0000 - val_loss: 1.3305e-04 - val_acc: 1.0000\n",
      "Epoch 61/100\n",
      "21964/21964 [==============================] - 2s 95us/step - loss: 6.1437e-05 - acc: 1.0000 - val_loss: 1.3171e-04 - val_acc: 1.0000\n",
      "Epoch 62/100\n",
      "21964/21964 [==============================] - 3s 152us/step - loss: 6.0303e-05 - acc: 1.0000 - val_loss: 1.3100e-04 - val_acc: 1.0000\n",
      "Epoch 63/100\n",
      "21964/21964 [==============================] - 4s 167us/step - loss: 5.9182e-05 - acc: 1.0000 - val_loss: 1.2948e-04 - val_acc: 1.0000\n",
      "Epoch 64/100\n",
      "21964/21964 [==============================] - 4s 165us/step - loss: 5.8122e-05 - acc: 1.0000 - val_loss: 1.2720e-04 - val_acc: 1.0000\n",
      "Epoch 65/100\n",
      "21964/21964 [==============================] - 4s 164us/step - loss: 5.7068e-05 - acc: 1.0000 - val_loss: 1.2485e-04 - val_acc: 1.0000\n",
      "Epoch 66/100\n",
      "21964/21964 [==============================] - 2s 113us/step - loss: 5.6083e-05 - acc: 1.0000 - val_loss: 1.2170e-04 - val_acc: 1.0000\n",
      "Epoch 67/100\n",
      "21964/21964 [==============================] - 3s 122us/step - loss: 5.5101e-05 - acc: 1.0000 - val_loss: 1.1926e-04 - val_acc: 1.0000\n",
      "Epoch 68/100\n",
      "21964/21964 [==============================] - 4s 165us/step - loss: 5.4176e-05 - acc: 1.0000 - val_loss: 1.1717e-04 - val_acc: 1.0000\n",
      "Epoch 69/100\n",
      "21964/21964 [==============================] - 4s 166us/step - loss: 5.3272e-05 - acc: 1.0000 - val_loss: 1.1701e-04 - val_acc: 1.0000\n",
      "Epoch 70/100\n",
      "21964/21964 [==============================] - 4s 201us/step - loss: 5.2384e-05 - acc: 1.0000 - val_loss: 1.1523e-04 - val_acc: 1.0000\n",
      "Epoch 71/100\n",
      "21964/21964 [==============================] - 4s 193us/step - loss: 5.1538e-05 - acc: 1.0000 - val_loss: 1.1379e-04 - val_acc: 1.0000\n",
      "Epoch 72/100\n",
      "21964/21964 [==============================] - 2s 83us/step - loss: 5.0716e-05 - acc: 1.0000 - val_loss: 1.1278e-04 - val_acc: 1.0000\n",
      "Epoch 73/100\n",
      "21964/21964 [==============================] - 4s 190us/step - loss: 4.9912e-05 - acc: 1.0000 - val_loss: 1.1086e-04 - val_acc: 1.0000\n",
      "Epoch 74/100\n",
      "21964/21964 [==============================] - 2s 113us/step - loss: 4.9140e-05 - acc: 1.0000 - val_loss: 1.0922e-04 - val_acc: 1.0000\n",
      "Epoch 75/100\n",
      "21964/21964 [==============================] - 4s 197us/step - loss: 4.8386e-05 - acc: 1.0000 - val_loss: 1.0822e-04 - val_acc: 1.0000\n",
      "Epoch 76/100\n",
      "21964/21964 [==============================] - 2s 94us/step - loss: 4.7664e-05 - acc: 1.0000 - val_loss: 1.0716e-04 - val_acc: 1.0000\n",
      "Epoch 77/100\n",
      "21964/21964 [==============================] - 5s 249us/step - loss: 4.6948e-05 - acc: 1.0000 - val_loss: 1.0529e-04 - val_acc: 1.0000\n",
      "Epoch 78/100\n",
      "21964/21964 [==============================] - 2s 73us/step - loss: 4.6255e-05 - acc: 1.0000 - val_loss: 1.0398e-04 - val_acc: 1.0000\n",
      "Epoch 79/100\n",
      "21964/21964 [==============================] - 5s 219us/step - loss: 4.5584e-05 - acc: 1.0000 - val_loss: 1.0166e-04 - val_acc: 1.0000\n",
      "Epoch 80/100\n",
      "21964/21964 [==============================] - 3s 150us/step - loss: 4.4932e-05 - acc: 1.0000 - val_loss: 1.0081e-04 - val_acc: 1.0000\n",
      "Epoch 81/100\n",
      "21964/21964 [==============================] - 5s 232us/step - loss: 4.4301e-05 - acc: 1.0000 - val_loss: 1.0065e-04 - val_acc: 1.0000\n",
      "Epoch 82/100\n",
      "21964/21964 [==============================] - 2s 104us/step - loss: 4.3680e-05 - acc: 1.0000 - val_loss: 1.0024e-04 - val_acc: 1.0000\n",
      "Epoch 83/100\n",
      "21964/21964 [==============================] - 4s 164us/step - loss: 4.3072e-05 - acc: 1.0000 - val_loss: 9.8160e-05 - val_acc: 1.0000\n",
      "Epoch 84/100\n",
      "21964/21964 [==============================] - 3s 121us/step - loss: 4.2488e-05 - acc: 1.0000 - val_loss: 9.6621e-05 - val_acc: 1.0000\n",
      "Epoch 85/100\n",
      "21964/21964 [==============================] - 5s 211us/step - loss: 4.1914e-05 - acc: 1.0000 - val_loss: 9.5113e-05 - val_acc: 1.0000\n",
      "Epoch 86/100\n",
      "21964/21964 [==============================] - 2s 73us/step - loss: 4.1354e-05 - acc: 1.0000 - val_loss: 9.3983e-05 - val_acc: 1.0000\n",
      "Epoch 87/100\n",
      "21964/21964 [==============================] - 5s 214us/step - loss: 4.0817e-05 - acc: 1.0000 - val_loss: 9.2535e-05 - val_acc: 1.0000\n",
      "Epoch 88/100\n",
      "21964/21964 [==============================] - 3s 140us/step - loss: 4.0283e-05 - acc: 1.0000 - val_loss: 9.1096e-05 - val_acc: 1.0000\n",
      "Epoch 89/100\n",
      "21964/21964 [==============================] - 2s 109us/step - loss: 3.9766e-05 - acc: 1.0000 - val_loss: 9.0500e-05 - val_acc: 1.0000\n",
      "Epoch 90/100\n",
      "21964/21964 [==============================] - 5s 232us/step - loss: 3.9261e-05 - acc: 1.0000 - val_loss: 8.9240e-05 - val_acc: 1.0000\n",
      "Epoch 91/100\n",
      "21964/21964 [==============================] - 4s 166us/step - loss: 3.8769e-05 - acc: 1.0000 - val_loss: 8.8450e-05 - val_acc: 1.0000\n",
      "Epoch 92/100\n",
      "21964/21964 [==============================] - 3s 123us/step - loss: 3.8290e-05 - acc: 1.0000 - val_loss: 8.7358e-05 - val_acc: 1.0000\n",
      "Epoch 93/100\n",
      "21964/21964 [==============================] - 5s 211us/step - loss: 3.7817e-05 - acc: 1.0000 - val_loss: 8.6407e-05 - val_acc: 1.0000\n",
      "Epoch 94/100\n",
      "21964/21964 [==============================] - 3s 129us/step - loss: 3.7357e-05 - acc: 1.0000 - val_loss: 8.5277e-05 - val_acc: 1.0000\n",
      "Epoch 95/100\n",
      "21964/21964 [==============================] - 4s 195us/step - loss: 3.6912e-05 - acc: 1.0000 - val_loss: 8.4419e-05 - val_acc: 1.0000\n",
      "Epoch 96/100\n",
      "21964/21964 [==============================] - 3s 146us/step - loss: 3.6473e-05 - acc: 1.0000 - val_loss: 8.3912e-05 - val_acc: 1.0000\n",
      "Epoch 97/100\n",
      "21964/21964 [==============================] - 3s 141us/step - loss: 3.6046e-05 - acc: 1.0000 - val_loss: 8.2651e-05 - val_acc: 1.0000\n",
      "Epoch 98/100\n",
      "21964/21964 [==============================] - 3s 116us/step - loss: 3.5630e-05 - acc: 1.0000 - val_loss: 8.2522e-05 - val_acc: 1.0000\n",
      "Epoch 99/100\n",
      "21964/21964 [==============================] - 3s 138us/step - loss: 3.5213e-05 - acc: 1.0000 - val_loss: 8.1605e-05 - val_acc: 1.0000\n",
      "Epoch 100/100\n",
      "21964/21964 [==============================] - 5s 212us/step - loss: 3.4819e-05 - acc: 1.0000 - val_loss: 8.0858e-05 - val_acc: 1.0000\n",
      "7172/7172 [==============================] - 1s 78us/step\n",
      "Accuracy best_model : 0.779978\n"
     ]
    }
   ],
   "source": [
    "best_model = Sequential()\n",
    "best_model.add(Dense(30, input_dim=px_tr.shape[1], init='uniform', activation='relu'))\n",
    "best_model.add(Dense(100, init='uniform', activation='relu'))\n",
    "best_model.add(Dense(25, init='uniform', activation='softmax'))\n",
    "best_model.compile(optimizer=SGD(lr=0.51), loss='categorical_crossentropy', metrics=['accuracy'])\n",
    "hist = best_model.fit(px_tr, to_categorical(y_tr), nb_epoch=100, batch_size=128, verbose=1,\n",
    "          validation_data=(px_v,to_categorical(y_v)))\n",
    "evaluate = best_model.evaluate(px_t,to_categorical(y_t)) \n",
    "print(\"Accuracy best_model : %f\" %evaluate[1])\n"
   ]
  },
  {
   "cell_type": "markdown",
   "metadata": {},
   "source": [
    "Con esta configuración se obtiene un accuracy de $\\approx 78\\%$ logrando llegar a un valor muy cercano a la cota mínima de error propuesto."
   ]
  },
  {
   "cell_type": "markdown",
   "metadata": {},
   "source": [
    "### d) Matriz de Confusión\n",
    "\n",
    "Se construye la matriz de confusión para las distintas y así ver cuales son las clases más difíciles de clasificar y cuales son las que más confunden a la red neuronal."
   ]
  },
  {
   "cell_type": "code",
   "execution_count": 42,
   "metadata": {},
   "outputs": [
    {
     "name": "stdout",
     "output_type": "stream",
     "text": [
      "Matriz de Confusión:\n"
     ]
    },
    {
     "data": {
      "text/plain": [
       "array([[236,   0,   0,   0,   0,   0,   0,   0,  21,   8,   0,   0,   0,\n",
       "          6,   0,   0,   0,   4,   0,   0,   0,   0,   0,  56],\n",
       "       [  0, 249,   0,  18,   0,   0,   0,   0,   0, 157,   0,   0,   0,\n",
       "          0,   0,   0,   0,   0,   0,   0,   0,   8,   0,   0],\n",
       "       [  0,   0, 234,   3,   0,  19,   0,   0,   0,   1,  49,   0,   0,\n",
       "          0,   0,   0,   0,   0,   0,   0,   0,   2,   0,   2],\n",
       "       [  0,   0,   0, 112,   0,   0,   0,   0,   0, 121,   0,   0,   0,\n",
       "          0,   0,   0,   4,   0,   0,   8,   0,   0,   0,   0],\n",
       "       [  0, 225,   0,   0, 184,   0,   0,   0,   0,  41,   0,   0,   0,\n",
       "          0,   0,   0,   0,  48,   0,   0,   0,   0,   0,   0],\n",
       "       [  0,   0,   0,   0,   0, 139,   0,   0,   0,  97,   0,   0,   0,\n",
       "          0,   0,   0,   0,   0,   0,   0,   0,   0,   0,  11],\n",
       "       [  0,   0,   0,  34,   0,   0, 121,  21,   0,  64,  40,   0,   0,\n",
       "          0,   0,   0,  37,   0,  20,   0,  11,   0,   0,   0],\n",
       "       [  0,   0,   0,   0,  20,   0,  61, 211,   4,   4,  19,   0,   1,\n",
       "          0,   0,   0,   7,   0,   0,  21,  69,   0,  19,   0],\n",
       "       [  0,   0,   0,   1,   0,   0,   0,   0,  91,  83,   0,   0,   0,\n",
       "          0,   0,   0,  42,   0,   0,   0,   0,   0,   0,  71],\n",
       "       [  0,   0,   0,   0,   0,   0,   0,   0,   0, 312,   0,   0,   0,\n",
       "          0,   0,   0,   0,   0,   0,   0,  19,   0,   0,   0],\n",
       "       [  0,   0,   0,   0,   0,   0,   0,   0,   0,  43, 166,   0,   0,\n",
       "          0,   0,   0,   0,   0,   0,   0,   0,   0,   0,   0],\n",
       "       [ 16,  84,   0,   1,  18,   0,   0,   0,  18,  97,   0,  84,  16,\n",
       "         18,   0,   0,   0,  18,   0,   9,   0,   0,   0,  15],\n",
       "       [ 33,   0,   0,  31,  14,   0,   0,   0,  31,  46,   0,   0,  44,\n",
       "          0,   0,   0,   0,  22,   0,  41,   0,   0,   0,  29],\n",
       "       [  0,   0,   0,   0,   0,  68,  26,   0,   0,   1,   0,   0,   0,\n",
       "         60,   0,   0,   0,   0,  21,   0,   0,  36,   0,  34],\n",
       "       [  0,   0,   0,   0,   0,  29,   0,   0,  22, 123,  57,   0,   0,\n",
       "          0,  70,   0,   0,   0,   0,   0,   0,   6,   9,  31],\n",
       "       [  0,   0,   0,  21,   0,  21,   0,   3,   0,   0,   0,  42,   0,\n",
       "         20,   0,  44,   0,   0,   0,   0,   2,   0,  11,   0],\n",
       "       [  0,   0,   0,   0,   0,   0,   0,   0,   0, 111,   0,   0,   0,\n",
       "          0,   0,   0,  26,   0,   0,   0,   7,   0,   0,   0],\n",
       "       [  0,   7,   0,   0,   0,   0,   0,  31,   0,  48,   0,  14,   9,\n",
       "          0,   0,   0,   0,  47,   0,  42,   0,   0,   0,  48],\n",
       "       [  0,   0,   0,   1,   0,   0,  12,   0,  20,  55,  48,   0,   0,\n",
       "          0,   0,   0,  19,   0,   2,  41,  21,   0,   0,  29],\n",
       "       [  0,   0,   0,  18,   0,   0,   0,   0,   0, 191,   0,   0,   0,\n",
       "          0,   0,   0,  16,   0,   0,  41,   0,   0,   0,   0],\n",
       "       [  0,   0,   0,   0,   0,   8,   0,   0,   0, 257,  21,   0,   0,\n",
       "          0,   0,   0,  20,   0,   0,   7,  33,   0,   0,   0],\n",
       "       [  0,   0,   0,   0,   0,   0,   0,   0,   0, 116,   0,   0,   0,\n",
       "          0,   0,   0,   0,   0,   0,   1,   3,  86,   0,   0],\n",
       "       [  0,   0,   0,   1,   0,   0,   0,   0,  13,  41,  20,   0,   0,\n",
       "          0,   0,   0, 127,   0,   0,   0,   9,   4,  52,   0],\n",
       "       [  0,   0,   0,   2,   0,   0,   0,   0,   0, 182,   2,   0,   0,\n",
       "          0,   0,   0,   8,   0,   0,   0,  16,   0,   0, 122]], dtype=int64)"
      ]
     },
     "execution_count": 42,
     "metadata": {},
     "output_type": "execute_result"
    }
   ],
   "source": [
    "from sklearn.metrics import confusion_matrix\n",
    "# print(to_categorical(y_t[:10]))\n",
    "y_red = list((best_model.predict(x_t)))\n",
    "#print(y_red[0:10])\n",
    "y_pred = []\n",
    "for i in range(len(y_red)):\n",
    "    z = [0]*len(y_red[i])\n",
    "    lista = list(y_red[i])\n",
    "    y_pred.append(lista.index(max(y_red[i])))\n",
    "    \n",
    "print(\"Matriz de Confusión:\")\n",
    "confusion_matrix(list(y_t), y_pred)"
   ]
  },
  {
   "cell_type": "markdown",
   "metadata": {},
   "source": [
    "El caso más representativo es el elemento con etiqueta 4, el modelo predice 225 veces que corresponde al elemento con etiqueta 1 y sólo 184 a su propia clase."
   ]
  },
  {
   "cell_type": "code",
   "execution_count": 89,
   "metadata": {},
   "outputs": [
    {
     "name": "stdout",
     "output_type": "stream",
     "text": [
      "Etiqueta: 1\n"
     ]
    },
    {
     "data": {
      "image/png": "[encoded data removed]",
      "text/plain": [
       "<matplotlib.figure.Figure at 0x25fcb4c5d30>"
      ]
     },
     "metadata": {},
     "output_type": "display_data"
    },
    {
     "name": "stdout",
     "output_type": "stream",
     "text": [
      "Etiqueta: 4\n"
     ]
    },
    {
     "data": {
      "image/png": "[encoded data removed]",
      "text/plain": [
       "<matplotlib.figure.Figure at 0x25fcb4ee630>"
      ]
     },
     "metadata": {},
     "output_type": "display_data"
    },
    {
     "name": "stdout",
     "output_type": "stream",
     "text": [
      "Etiqueta: 1\n"
     ]
    },
    {
     "data": {
      "image/png": "[encoded data removed]",
      "text/plain": [
       "<matplotlib.figure.Figure at 0x25fcb427358>"
      ]
     },
     "metadata": {},
     "output_type": "display_data"
    },
    {
     "name": "stdout",
     "output_type": "stream",
     "text": [
      "Etiqueta: 4\n"
     ]
    },
    {
     "data": {
      "image/png": "[encoded data removed]",
      "text/plain": [
       "<matplotlib.figure.Figure at 0x25fcb427dd8>"
      ]
     },
     "metadata": {},
     "output_type": "display_data"
    }
   ],
   "source": [
    "ver_imagen(X,y_tr,29)\n",
    "ver_imagen(X,y_tr,60)\n",
    "ver_imagen(X,y_tr,106)\n",
    "ver_imagen(X,y_tr,113)"
   ]
  },
  {
   "cell_type": "markdown",
   "metadata": {},
   "source": [
    "### e) SVM no lineal"
   ]
  },
  {
   "cell_type": "markdown",
   "metadata": {},
   "source": [
    "A continuación se procede a entrenar una SVM no lineal, con la representación original ( pixeles sin pre-procesamiento ) y con la pre-procesada. Para modificar hiper-parámetros y tomar decisiones de diseño se utilizará el conjunto de validación."
   ]
  },
  {
   "cell_type": "code",
   "execution_count": 4,
   "metadata": {},
   "outputs": [
    {
     "name": "stdout",
     "output_type": "stream",
     "text": [
      "Miss Classification Loss sin procesamiento kernel rbf: 0.952103\n",
      "Miss Classification Loss sin procesamiento kernel poly: 0.000000\n"
     ]
    }
   ],
   "source": [
    "from sklearn.svm import SVC as SVM\n",
    "from sklearn.metrics import accuracy_score\n",
    "\n",
    "# REPRESENTACIÓN ORIGINAL.\n",
    "\n",
    "model= SVM()\n",
    "model.set_params(C=0.01,kernel='rbf')\n",
    "model.fit(x_tr,y_tr)\n",
    "y_true = list(y_v)\n",
    "y_pred = list(model.predict(x_v))\n",
    "print(\"Miss Classification Loss sin procesamiento kernel rbf: %f\"%(1-accuracy_score(y_true, y_pred)))\n",
    "\n",
    "model= SVM()\n",
    "model.set_params(C=0.01,kernel='poly')\n",
    "model.fit(x_tr,y_tr)\n",
    "y_true = list(y_v)\n",
    "y_pred = list(model.predict(x_v))\n",
    "print(\"Miss Classification Loss sin procesamiento kernel poly: %f\"%(1-accuracy_score(y_true, y_pred)))"
   ]
  },
  {
   "cell_type": "code",
   "execution_count": 5,
   "metadata": {},
   "outputs": [
    {
     "name": "stdout",
     "output_type": "stream",
     "text": [
      "Miss Classification Loss con procesamiento kernel rbf: 0.645056\n",
      "Miss Classification Loss con procesamiento kernel poly: 0.750501\n"
     ]
    }
   ],
   "source": [
    "# REPRESENTACIÓN PRE-PROCESADA\n",
    "model= SVM()\n",
    "model.set_params(C=0.01,kernel='rbf')\n",
    "model.fit(px_tr,y_tr)\n",
    "y_true = list(y_v)\n",
    "y_pred = list(model.predict(px_v))\n",
    "print(\"Miss Classification Loss con procesamiento kernel rbf: %f\"%(1-accuracy_score(y_true, y_pred)))\n",
    "\n",
    "model= SVM()\n",
    "model.set_params(C=0.01,kernel='poly')\n",
    "model.fit(px_tr,y_tr)\n",
    "y_true = list(y_v)\n",
    "y_pred = list(model.predict(px_v))\n",
    "print(\"Miss Classification Loss con procesamiento kernel poly: %f\"%(1-accuracy_score(y_true, y_pred)))"
   ]
  },
  {
   "cell_type": "markdown",
   "metadata": {},
   "source": [
    "### f) Árbol de clasificación"
   ]
  },
  {
   "cell_type": "markdown",
   "metadata": {},
   "source": [
    "Continuando con los método no-lineales, se procede a entrenar el árbol con la misma idea, con y sin pre-procesamiento, se ajustará la profundidad máxima en base al conjunto de validación."
   ]
  },
  {
   "cell_type": "code",
   "execution_count": 6,
   "metadata": {},
   "outputs": [
    {
     "name": "stdout",
     "output_type": "stream",
     "text": [
      "Miss Classification Loss Tree sin pre-procesamiento: 0.220543\n",
      "Miss Classification Loss Tree con pre-procesamiento: 0.218357\n"
     ]
    }
   ],
   "source": [
    "# Sin pre-procesamiento\n",
    "from sklearn.tree import DecisionTreeClassifier as Tree\n",
    "#Probarndo con n=10 , criterio entropy.\n",
    "\n",
    "model = Tree() #edit the train_model function\n",
    "model.set_params(max_depth=10,criterion='entropy',splitter='best')\n",
    "model.fit(x_tr,y_tr)\n",
    "y_true = list(y_v)\n",
    "y_pred = model.predict(x_v)\n",
    "print(\"Miss Classification Loss Tree sin pre-procesamiento: %f\"%(1-accuracy_score(y_true, y_pred)))\n",
    "\n",
    "# Pre procesado\n",
    "model = Tree() #edit the train_model function\n",
    "model.set_params(max_depth=10,criterion='entropy',splitter='best')\n",
    "model.fit(px_tr,y_tr)\n",
    "y_true = list(y_v)\n",
    "y_pred = model.predict(px_v)\n",
    "print(\"Miss Classification Loss Tree con pre-procesamiento: %f\"%(1-accuracy_score(y_true, y_pred)))"
   ]
  }
 ],
 "metadata": {
  "kernelspec": {
   "display_name": "Python 3",
   "language": "python",
   "name": "python3"
  },
  "language_info": {
   "codemirror_mode": {
    "name": "ipython",
    "version": 3
   },
   "file_extension": ".py",
   "mimetype": "text/x-python",
   "name": "python",
   "nbconvert_exporter": "python",
   "pygments_lexer": "ipython3",
   "version": "3.6.3"
  }
 },
 "nbformat": 4,
 "nbformat_minor": 2
}
