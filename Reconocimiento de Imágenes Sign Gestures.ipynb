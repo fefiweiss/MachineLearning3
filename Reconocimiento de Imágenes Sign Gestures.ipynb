{
 "cells": [
  {
   "cell_type": "markdown",
   "metadata": {},
   "source": [
    "(a) Construya una funci\u0013on que cargue todos los datos de entrenamiento y pruebas del problema generando\n",
    "como salida: (i) dos matrices Xtr; Ytr, correspondientes a las im\u0013agenes y etiquetas de entrenamiento,\n",
    "(ii) dos matrices Xt; Yt, correspondientes a las im\u0013agenes y etiquetas de pruebas, y \f",
    "nalmente (iii) dos\n",
    "matrices Xv; Yv, correspondientes a im\u0013agenes y etiquetas que se usar\u0013an como conjunto de validaci\u0013on, es\n",
    "decir para tomar decisiones de dise~no acerca del modelo. Este \u0013ultimo conjunto debe ser extra\u0013\u0010do desde\n",
    "el conjunto de entrenamiento original y no debe superar las 7000 im\u0013agenes."
   ]
  },
  {
   "cell_type": "code",
   "execution_count": 11,
   "metadata": {},
   "outputs": [
    {
     "name": "stdout",
     "output_type": "stream",
     "text": [
      "(6455,)\n"
     ]
    }
   ],
   "source": [
    "import pandas as pd\n",
    "from sklearn.model_selection import train_test_split\n",
    "def load_data():\n",
    "    train = pd.read_csv('sign_mnist_train.csv')\n",
    "    test = pd.read_csv('sign_mnist_test.csv')\n",
    "    y_tr = train['label']\n",
    "    x_tr = train.iloc[:,1:]\n",
    "    x_v = train.iloc[21000:len(x_tr),1:]\n",
    "    y_v = train['label'][21000:len(x_tr)]\n",
    "    delete = len(x_tr) - 21000\n",
    "    y_tr = y_tr.drop(y_tr.tail(delete).index)\n",
    "    x_tr = x_tr.drop(x_tr.tail(delete).index)\n",
    "    y_t = test['label']\n",
    "    x_t = test.iloc[:,1:]\n",
    "    #you need to add Xval: x_v,y_v\n",
    "    \n",
    "    return(x_tr,x_v,x_t,y_tr,y_v,y_t)\n",
    "x_tr, x_v, x_t, y_tr, y_v , y_t= load_data()\n",
    "\n",
    "\n",
    "\n"
   ]
  },
  {
   "cell_type": "code",
   "execution_count": 15,
   "metadata": {},
   "outputs": [
    {
     "name": "stdout",
     "output_type": "stream",
     "text": [
      "(7172, 784)\n",
      "(6455, 784)\n"
     ]
    }
   ],
   "source": [
    "print(x_t.shape)\n",
    "print(x_v.shape)"
   ]
  },
  {
   "cell_type": "markdown",
   "metadata": {},
   "source": [
    "(b) Construya una funci\u0013on que escale apropiadamente las im\u0013agenes antes de trabajar. Experimente s\u0013olo\n",
    "escalando los datos de acuerdo a la intensidad m\u0013axima de pixel (i.e., dividiendo por 255) y luego\n",
    "centrando y escal\u0013andolos como en actividades anteriores."
   ]
  },
  {
   "cell_type": "code",
   "execution_count": 2,
   "metadata": {},
   "outputs": [
    {
     "name": "stdout",
     "output_type": "stream",
     "text": [
      "Datos centrados y escalados normalmente\n"
     ]
    }
   ],
   "source": [
    "# Escalar y centrar datos\n",
    "from sklearn.preprocessing import StandardScaler\n",
    "\n",
    "def scaler_t(X,Xv,Xt,scaler_type):\n",
    "    if scaler_type == \"centrar\":\n",
    "        scaler= StandardScaler(with_std=False).fit(X)\n",
    "        return scaler.transform(X), scaler.transform(Xv), scaler.transform(Xt)\n",
    "    elif scaler_type == \"centrar_escalar\":\n",
    "        scaler= StandardScaler(with_std=True).fit(X)\n",
    "        return scaler.transform(X), scaler.transform(Xv), scaler.transform(Xt)\n",
    "    else: #otro\n",
    "        return X*0.5\n",
    "    \n",
    "#print(\"Datos centrados\")\n",
    "#X,Xv,Xt = scaler_t(x_tr,x_v,x_t,\"centrar\")\n",
    "#print(X)\n",
    "\n",
    "\n",
    "print(\"Datos centrados y escalados normalmente\")\n",
    "x_tr,x_v,x_t = scaler_t(x_tr,x_v,x_t,\"centrar_escalar\")\n",
    "\n",
    "\n",
    "#ver_imagen(X,Y_train,20)\n",
    "\n",
    "#Buscar como visualizar imagen!\n"
   ]
  },
  {
   "cell_type": "code",
   "execution_count": null,
   "metadata": {},
   "outputs": [],
   "source": [
    "c) Dise~ne, entrene y eval\u0013ue una red neuronal para el problema partir de la representaci\u0013on original de las\n",
    "im\u0013agenes. Experimente con distintas arquitecturas, pre-procesamientos y m\u0013etodos de entrenamiento,\n",
    "midiendo el error de clasi\f",
    "caci\u0013on sobre el conjunto de validaci\u0013on. En base a esta \u0013ultima medida de\n",
    "desempe~no, decida qu\u0013e modelo, de entre todos los evaluados, medir\u0013a \f",
    "nalmente en el conjunto de test.\n",
    "Reporte y discuta los resultados obtenidos. Se espera que logre obtener un error de pruebas menor o\n",
    "igual a 0:2."
   ]
  },
  {
   "cell_type": "code",
   "execution_count": 19,
   "metadata": {},
   "outputs": [
    {
     "name": "stdout",
     "output_type": "stream",
     "text": [
      "6455\n",
      "6455\n"
     ]
    },
    {
     "name": "stderr",
     "output_type": "stream",
     "text": [
      "c:\\anaconda3\\lib\\site-packages\\ipykernel_launcher.py:9: UserWarning: Update your `Dense` call to the Keras 2 API: `Dense(30, input_dim=784, activation=\"relu\", kernel_initializer=\"uniform\")`\n",
      "  if __name__ == '__main__':\n",
      "c:\\anaconda3\\lib\\site-packages\\ipykernel_launcher.py:10: UserWarning: Update your `Dense` call to the Keras 2 API: `Dense(30, activation=\"relu\", kernel_initializer=\"uniform\")`\n",
      "  # Remove the CWD from sys.path while we load stuff.\n",
      "c:\\anaconda3\\lib\\site-packages\\ipykernel_launcher.py:11: UserWarning: Update your `Dense` call to the Keras 2 API: `Dense(25, activation=\"softmax\", kernel_initializer=\"uniform\")`\n",
      "  # This is added back by InteractiveShellApp.init_path()\n",
      "c:\\anaconda3\\lib\\site-packages\\keras\\models.py:939: UserWarning: The `nb_epoch` argument in `fit` has been renamed `epochs`.\n",
      "  warnings.warn('The `nb_epoch` argument in `fit` '\n"
     ]
    },
    {
     "name": "stdout",
     "output_type": "stream",
     "text": [
      "Train on 21000 samples, validate on 6455 samples\n",
      "Epoch 1/100\n",
      "21000/21000 [==============================] - 2s 76us/step - loss: 15.2992 - acc: 0.0456 - val_loss: 15.4189 - val_acc: 0.0434\n",
      "Epoch 2/100\n",
      "21000/21000 [==============================] - 1s 54us/step - loss: 15.3805 - acc: 0.0458 - val_loss: 15.4189 - val_acc: 0.0434\n",
      "Epoch 3/100\n",
      "21000/21000 [==============================] - 1s 54us/step - loss: 15.3805 - acc: 0.0458 - val_loss: 15.4189 - val_acc: 0.0434\n",
      "Epoch 4/100\n",
      "21000/21000 [==============================] - 1s 54us/step - loss: 15.3805 - acc: 0.0458 - val_loss: 15.4189 - val_acc: 0.0434\n",
      "Epoch 5/100\n",
      "21000/21000 [==============================] - 1s 62us/step - loss: 15.3805 - acc: 0.0458 - val_loss: 15.4189 - val_acc: 0.0434\n",
      "Epoch 6/100\n",
      "21000/21000 [==============================] - 1s 53us/step - loss: 15.3805 - acc: 0.0458 - val_loss: 15.4189 - val_acc: 0.0434\n",
      "Epoch 7/100\n",
      "21000/21000 [==============================] - 1s 58us/step - loss: 15.3805 - acc: 0.0458 - val_loss: 15.4189 - val_acc: 0.0434\n",
      "Epoch 8/100\n",
      "21000/21000 [==============================] - 1s 55us/step - loss: 15.3805 - acc: 0.0458 - val_loss: 15.4189 - val_acc: 0.0434\n",
      "Epoch 9/100\n",
      "21000/21000 [==============================] - 1s 54us/step - loss: 15.3805 - acc: 0.0458 - val_loss: 15.4189 - val_acc: 0.0434\n",
      "Epoch 10/100\n",
      "21000/21000 [==============================] - 1s 51us/step - loss: 15.3805 - acc: 0.0458 - val_loss: 15.4189 - val_acc: 0.0434\n",
      "Epoch 11/100\n",
      "21000/21000 [==============================] - 1s 51us/step - loss: 15.3805 - acc: 0.0458 - val_loss: 15.4189 - val_acc: 0.0434\n",
      "Epoch 12/100\n",
      "21000/21000 [==============================] - 1s 53us/step - loss: 15.3805 - acc: 0.0458 - val_loss: 15.4189 - val_acc: 0.0434\n",
      "Epoch 13/100\n",
      "21000/21000 [==============================] - 1s 59us/step - loss: 15.3805 - acc: 0.0458 - val_loss: 15.4189 - val_acc: 0.0434\n",
      "Epoch 14/100\n",
      "21000/21000 [==============================] - 1s 61us/step - loss: 15.3805 - acc: 0.0458 - val_loss: 15.4189 - val_acc: 0.0434\n",
      "Epoch 15/100\n",
      "21000/21000 [==============================] - 1s 64us/step - loss: 15.3805 - acc: 0.0458 - val_loss: 15.4189 - val_acc: 0.0434\n",
      "Epoch 16/100\n",
      "21000/21000 [==============================] - 1s 64us/step - loss: 15.3805 - acc: 0.0458 - val_loss: 15.4189 - val_acc: 0.0434\n",
      "Epoch 17/100\n",
      "21000/21000 [==============================] - 2s 75us/step - loss: 15.3805 - acc: 0.0458 - val_loss: 15.4189 - val_acc: 0.0434\n",
      "Epoch 18/100\n",
      "21000/21000 [==============================] - 1s 61us/step - loss: 15.3805 - acc: 0.0458 - val_loss: 15.4189 - val_acc: 0.0434\n",
      "Epoch 19/100\n",
      "21000/21000 [==============================] - 1s 58us/step - loss: 15.3805 - acc: 0.0458 - val_loss: 15.4189 - val_acc: 0.0434\n",
      "Epoch 20/100\n",
      "21000/21000 [==============================] - 1s 58us/step - loss: 15.3805 - acc: 0.0458 - val_loss: 15.4189 - val_acc: 0.0434\n",
      "Epoch 21/100\n",
      "21000/21000 [==============================] - 1s 60us/step - loss: 15.3805 - acc: 0.0458 - val_loss: 15.4189 - val_acc: 0.0434\n",
      "Epoch 22/100\n",
      "21000/21000 [==============================] - 1s 57us/step - loss: 15.3805 - acc: 0.0458 - val_loss: 15.4189 - val_acc: 0.0434\n",
      "Epoch 23/100\n",
      "21000/21000 [==============================] - 1s 59us/step - loss: 15.3805 - acc: 0.0458 - val_loss: 15.4189 - val_acc: 0.0434\n",
      "Epoch 24/100\n",
      "21000/21000 [==============================] - 1s 58us/step - loss: 15.3805 - acc: 0.0458 - val_loss: 15.4189 - val_acc: 0.0434\n",
      "Epoch 25/100\n",
      "21000/21000 [==============================] - 1s 60us/step - loss: 15.3805 - acc: 0.0458 - val_loss: 15.4189 - val_acc: 0.0434\n",
      "Epoch 26/100\n",
      "21000/21000 [==============================] - 1s 59us/step - loss: 15.3805 - acc: 0.0458 - val_loss: 15.4189 - val_acc: 0.0434\n",
      "Epoch 27/100\n",
      "21000/21000 [==============================] - 1s 62us/step - loss: 15.3805 - acc: 0.0458 - val_loss: 15.4189 - val_acc: 0.0434\n",
      "Epoch 28/100\n",
      "21000/21000 [==============================] - 1s 65us/step - loss: 15.3805 - acc: 0.0458 - val_loss: 15.4189 - val_acc: 0.0434\n",
      "Epoch 29/100\n",
      "21000/21000 [==============================] - 1s 66us/step - loss: 15.3805 - acc: 0.0458 - val_loss: 15.4189 - val_acc: 0.0434\n",
      "Epoch 30/100\n",
      "21000/21000 [==============================] - 1s 60us/step - loss: 15.3805 - acc: 0.0458 - val_loss: 15.4189 - val_acc: 0.0434\n",
      "Epoch 31/100\n",
      "21000/21000 [==============================] - 1s 61us/step - loss: 15.3805 - acc: 0.0458 - val_loss: 15.4189 - val_acc: 0.0434\n",
      "Epoch 32/100\n",
      "21000/21000 [==============================] - 2s 92us/step - loss: 15.3805 - acc: 0.0458 - val_loss: 15.4189 - val_acc: 0.0434\n",
      "Epoch 33/100\n",
      "21000/21000 [==============================] - 3s 120us/step - loss: 15.3805 - acc: 0.0458 - val_loss: 15.4189 - val_acc: 0.0434\n",
      "Epoch 34/100\n",
      "21000/21000 [==============================] - 1s 66us/step - loss: 15.3805 - acc: 0.0458 - val_loss: 15.4189 - val_acc: 0.0434\n",
      "Epoch 35/100\n",
      "21000/21000 [==============================] - 1s 64us/step - loss: 15.3805 - acc: 0.0458 - val_loss: 15.4189 - val_acc: 0.0434\n",
      "Epoch 36/100\n",
      "21000/21000 [==============================] - 1s 63us/step - loss: 15.3805 - acc: 0.0458 - val_loss: 15.4189 - val_acc: 0.0434\n",
      "Epoch 37/100\n",
      "21000/21000 [==============================] - 1s 62us/step - loss: 15.3805 - acc: 0.0458 - val_loss: 15.4189 - val_acc: 0.0434\n",
      "Epoch 38/100\n",
      "21000/21000 [==============================] - 2s 97us/step - loss: 15.3805 - acc: 0.0458 - val_loss: 15.4189 - val_acc: 0.0434\n",
      "Epoch 39/100\n",
      "21000/21000 [==============================] - 2s 75us/step - loss: 15.3805 - acc: 0.0458 - val_loss: 15.4189 - val_acc: 0.0434\n",
      "Epoch 40/100\n",
      "21000/21000 [==============================] - 1s 58us/step - loss: 15.3805 - acc: 0.0458 - val_loss: 15.4189 - val_acc: 0.0434\n",
      "Epoch 41/100\n",
      "21000/21000 [==============================] - 1s 58us/step - loss: 15.3805 - acc: 0.0458 - val_loss: 15.4189 - val_acc: 0.0434\n",
      "Epoch 42/100\n",
      "21000/21000 [==============================] - 1s 62us/step - loss: 15.3805 - acc: 0.0458 - val_loss: 15.4189 - val_acc: 0.0434\n",
      "Epoch 43/100\n",
      "21000/21000 [==============================] - 1s 61us/step - loss: 15.3805 - acc: 0.0458 - val_loss: 15.4189 - val_acc: 0.0434\n",
      "Epoch 44/100\n",
      "21000/21000 [==============================] - 1s 60us/step - loss: 15.3805 - acc: 0.0458 - val_loss: 15.4189 - val_acc: 0.0434\n",
      "Epoch 45/100\n",
      "21000/21000 [==============================] - 1s 62us/step - loss: 15.3805 - acc: 0.0458 - val_loss: 15.4189 - val_acc: 0.0434\n",
      "Epoch 46/100\n",
      "21000/21000 [==============================] - 3s 120us/step - loss: 15.3805 - acc: 0.0458 - val_loss: 15.4189 - val_acc: 0.0434\n",
      "Epoch 47/100\n",
      "21000/21000 [==============================] - 1s 58us/step - loss: 15.3805 - acc: 0.0458 - val_loss: 15.4189 - val_acc: 0.0434\n",
      "Epoch 48/100\n",
      "21000/21000 [==============================] - 1s 58us/step - loss: 15.3805 - acc: 0.0458 - val_loss: 15.4189 - val_acc: 0.0434\n",
      "Epoch 49/100\n",
      "21000/21000 [==============================] - 1s 58us/step - loss: 15.3805 - acc: 0.0458 - val_loss: 15.4189 - val_acc: 0.0434\n",
      "Epoch 50/100\n",
      "21000/21000 [==============================] - 1s 62us/step - loss: 15.3805 - acc: 0.0458 - val_loss: 15.4189 - val_acc: 0.0434\n",
      "Epoch 51/100\n",
      "21000/21000 [==============================] - 2s 104us/step - loss: 15.3805 - acc: 0.0458 - val_loss: 15.4189 - val_acc: 0.0434\n",
      "Epoch 52/100\n",
      "21000/21000 [==============================] - 1s 70us/step - loss: 15.3805 - acc: 0.0458 - val_loss: 15.4189 - val_acc: 0.0434\n",
      "Epoch 53/100\n",
      "21000/21000 [==============================] - 1s 59us/step - loss: 15.3805 - acc: 0.0458 - val_loss: 15.4189 - val_acc: 0.0434\n",
      "Epoch 54/100\n",
      "21000/21000 [==============================] - 1s 60us/step - loss: 15.3805 - acc: 0.0458 - val_loss: 15.4189 - val_acc: 0.0434\n",
      "Epoch 55/100\n",
      "21000/21000 [==============================] - 1s 58us/step - loss: 15.3805 - acc: 0.0458 - val_loss: 15.4189 - val_acc: 0.0434\n",
      "Epoch 56/100\n",
      "21000/21000 [==============================] - 1s 61us/step - loss: 15.3805 - acc: 0.0458 - val_loss: 15.4189 - val_acc: 0.0434\n",
      "Epoch 57/100\n",
      "21000/21000 [==============================] - 1s 58us/step - loss: 15.3805 - acc: 0.0458 - val_loss: 15.4189 - val_acc: 0.0434\n",
      "Epoch 58/100\n",
      "21000/21000 [==============================] - 1s 58us/step - loss: 15.3805 - acc: 0.0458 - val_loss: 15.4189 - val_acc: 0.0434\n"
     ]
    },
    {
     "name": "stdout",
     "output_type": "stream",
     "text": [
      "Epoch 59/100\n",
      "21000/21000 [==============================] - 1s 58us/step - loss: 15.3805 - acc: 0.0458 - val_loss: 15.4189 - val_acc: 0.0434\n",
      "Epoch 60/100\n",
      "21000/21000 [==============================] - 1s 60us/step - loss: 15.3805 - acc: 0.0458 - val_loss: 15.4189 - val_acc: 0.0434\n",
      "Epoch 61/100\n",
      "21000/21000 [==============================] - 1s 58us/step - loss: 15.3805 - acc: 0.0458 - val_loss: 15.4189 - val_acc: 0.0434\n",
      "Epoch 62/100\n",
      "21000/21000 [==============================] - 1s 57us/step - loss: 15.3805 - acc: 0.0458 - val_loss: 15.4189 - val_acc: 0.0434\n",
      "Epoch 63/100\n",
      "21000/21000 [==============================] - 1s 65us/step - loss: 15.3805 - acc: 0.0458 - val_loss: 15.4189 - val_acc: 0.0434\n",
      "Epoch 64/100\n",
      "21000/21000 [==============================] - 2s 108us/step - loss: 15.3805 - acc: 0.0458 - val_loss: 15.4189 - val_acc: 0.0434\n",
      "Epoch 65/100\n",
      "21000/21000 [==============================] - 2s 84us/step - loss: 15.3805 - acc: 0.0458 - val_loss: 15.4189 - val_acc: 0.0434\n",
      "Epoch 66/100\n",
      "21000/21000 [==============================] - 2s 97us/step - loss: 15.3805 - acc: 0.0458 - val_loss: 15.4189 - val_acc: 0.0434\n",
      "Epoch 67/100\n",
      "21000/21000 [==============================] - 2s 99us/step - loss: 15.3805 - acc: 0.0458 - val_loss: 15.4189 - val_acc: 0.0434\n",
      "Epoch 68/100\n",
      "21000/21000 [==============================] - 2s 93us/step - loss: 15.3805 - acc: 0.0458 - val_loss: 15.4189 - val_acc: 0.0434\n",
      "Epoch 69/100\n",
      "21000/21000 [==============================] - 2s 84us/step - loss: 15.3805 - acc: 0.0458 - val_loss: 15.4189 - val_acc: 0.0434\n",
      "Epoch 70/100\n",
      "21000/21000 [==============================] - 2s 100us/step - loss: 15.3805 - acc: 0.0458 - val_loss: 15.4189 - val_acc: 0.0434\n",
      "Epoch 71/100\n",
      "21000/21000 [==============================] - 1s 69us/step - loss: 15.3805 - acc: 0.0458 - val_loss: 15.4189 - val_acc: 0.0434\n",
      "Epoch 72/100\n",
      "21000/21000 [==============================] - 2s 115us/step - loss: 15.3805 - acc: 0.0458 - val_loss: 15.4189 - val_acc: 0.0434\n",
      "Epoch 73/100\n",
      "21000/21000 [==============================] - 1s 66us/step - loss: 15.3805 - acc: 0.0458 - val_loss: 15.4189 - val_acc: 0.0434\n",
      "Epoch 74/100\n",
      "21000/21000 [==============================] - 3s 121us/step - loss: 15.3805 - acc: 0.0458 - val_loss: 15.4189 - val_acc: 0.0434\n",
      "Epoch 75/100\n",
      "21000/21000 [==============================] - 1s 61us/step - loss: 15.3805 - acc: 0.0458 - val_loss: 15.4189 - val_acc: 0.0434\n",
      "Epoch 76/100\n",
      "21000/21000 [==============================] - 3s 124us/step - loss: 15.3805 - acc: 0.0458 - val_loss: 15.4189 - val_acc: 0.0434\n",
      "Epoch 77/100\n",
      "21000/21000 [==============================] - 1s 62us/step - loss: 15.3805 - acc: 0.0458 - val_loss: 15.4189 - val_acc: 0.0434\n",
      "Epoch 78/100\n",
      "21000/21000 [==============================] - 3s 125us/step - loss: 15.3805 - acc: 0.0458 - val_loss: 15.4189 - val_acc: 0.0434\n",
      "Epoch 79/100\n",
      "21000/21000 [==============================] - 1s 62us/step - loss: 15.3805 - acc: 0.0458 - val_loss: 15.4189 - val_acc: 0.0434\n",
      "Epoch 80/100\n",
      "21000/21000 [==============================] - 3s 125us/step - loss: 15.3805 - acc: 0.0458 - val_loss: 15.4189 - val_acc: 0.0434\n",
      "Epoch 81/100\n",
      "21000/21000 [==============================] - 1s 62us/step - loss: 15.3805 - acc: 0.0458 - val_loss: 15.4189 - val_acc: 0.0434\n",
      "Epoch 82/100\n",
      "21000/21000 [==============================] - 3s 126us/step - loss: 15.3805 - acc: 0.0458 - val_loss: 15.4189 - val_acc: 0.0434\n",
      "Epoch 83/100\n",
      "21000/21000 [==============================] - 1s 62us/step - loss: 15.3805 - acc: 0.0458 - val_loss: 15.4189 - val_acc: 0.0434\n",
      "Epoch 84/100\n",
      "21000/21000 [==============================] - 3s 125us/step - loss: 15.3805 - acc: 0.0458 - val_loss: 15.4189 - val_acc: 0.0434\n",
      "Epoch 85/100\n",
      "21000/21000 [==============================] - 1s 61us/step - loss: 15.3805 - acc: 0.0458 - val_loss: 15.4189 - val_acc: 0.0434\n",
      "Epoch 86/100\n",
      "21000/21000 [==============================] - 3s 126us/step - loss: 15.3805 - acc: 0.0458 - val_loss: 15.4189 - val_acc: 0.0434\n",
      "Epoch 87/100\n",
      "21000/21000 [==============================] - 1s 62us/step - loss: 15.3805 - acc: 0.0458 - val_loss: 15.4189 - val_acc: 0.0434\n",
      "Epoch 88/100\n",
      "21000/21000 [==============================] - 3s 130us/step - loss: 15.3805 - acc: 0.0458 - val_loss: 15.4189 - val_acc: 0.0434\n",
      "Epoch 89/100\n",
      "21000/21000 [==============================] - 3s 128us/step - loss: 15.3805 - acc: 0.0458 - val_loss: 15.4189 - val_acc: 0.0434\n",
      "Epoch 90/100\n",
      "21000/21000 [==============================] - 2s 109us/step - loss: 15.3805 - acc: 0.0458 - val_loss: 15.4189 - val_acc: 0.0434\n",
      "Epoch 91/100\n",
      "21000/21000 [==============================] - 3s 127us/step - loss: 15.3805 - acc: 0.0458 - val_loss: 15.4189 - val_acc: 0.0434\n",
      "Epoch 92/100\n",
      "21000/21000 [==============================] - 1s 62us/step - loss: 15.3805 - acc: 0.0458 - val_loss: 15.4189 - val_acc: 0.0434\n",
      "Epoch 93/100\n",
      "21000/21000 [==============================] - 3s 125us/step - loss: 15.3805 - acc: 0.0458 - val_loss: 15.4189 - val_acc: 0.0434\n",
      "Epoch 94/100\n",
      "21000/21000 [==============================] - 1s 63us/step - loss: 15.3805 - acc: 0.0458 - val_loss: 15.4189 - val_acc: 0.0434\n",
      "Epoch 95/100\n",
      "21000/21000 [==============================] - 3s 126us/step - loss: 15.3805 - acc: 0.0458 - val_loss: 15.4189 - val_acc: 0.0434\n",
      "Epoch 96/100\n",
      "21000/21000 [==============================] - 1s 62us/step - loss: 15.3805 - acc: 0.0458 - val_loss: 15.4189 - val_acc: 0.0434\n",
      "Epoch 97/100\n",
      "21000/21000 [==============================] - 3s 123us/step - loss: 15.3805 - acc: 0.0458 - val_loss: 15.4189 - val_acc: 0.0434\n",
      "Epoch 98/100\n",
      "21000/21000 [==============================] - 1s 63us/step - loss: 15.3805 - acc: 0.0458 - val_loss: 15.4189 - val_acc: 0.0434\n",
      "Epoch 99/100\n",
      "21000/21000 [==============================] - 3s 125us/step - loss: 15.3805 - acc: 0.0458 - val_loss: 15.4189 - val_acc: 0.0434\n",
      "Epoch 100/100\n",
      "21000/21000 [==============================] - 3s 129us/step - loss: 15.3805 - acc: 0.0458 - val_loss: 15.4189 - val_acc: 0.0434\n"
     ]
    },
    {
     "data": {
      "text/plain": [
       "<keras.callbacks.History at 0x19a5bcfcac8>"
      ]
     },
     "execution_count": 19,
     "metadata": {},
     "output_type": "execute_result"
    }
   ],
   "source": [
    "from keras.models import Sequential\n",
    "from keras.layers import Dense, Activation\n",
    "from keras.optimizers import SGD\n",
    "from keras.utils.np_utils import to_categorical\n",
    "print(len(x_v))\n",
    "print(len(y_v))\n",
    "\n",
    "model = Sequential()\n",
    "model.add(Dense(30, input_dim=x_tr.shape[1], init='uniform', activation='relu'))\n",
    "model.add(Dense(30, init='uniform', activation='relu'))\n",
    "model.add(Dense(25, init='uniform', activation='softmax'))\n",
    "model.compile(optimizer=SGD(lr=0.05), loss='categorical_crossentropy', metrics=['accuracy'])\n",
    "model.fit(x_tr, to_categorical(y_tr), nb_epoch=100, batch_size=128, verbose=1,\n",
    "          validation_data=(x_v,to_categorical(y_v)))"
   ]
  },
  {
   "cell_type": "code",
   "execution_count": 37,
   "metadata": {},
   "outputs": [
    {
     "name": "stdout",
     "output_type": "stream",
     "text": [
      "7172/7172 [==============================] - 0s 44us/step\n",
      "test accuracy: 0.0291411042945\n"
     ]
    }
   ],
   "source": [
    "#Error de prueba\n",
    "evaluate = model.evaluate(x_t,to_categorical(y_t))\n",
    "print(\"test accuracy:\",evaluate[1])\n"
   ]
  },
  {
   "cell_type": "code",
   "execution_count": null,
   "metadata": {},
   "outputs": [],
   "source": [
    "(d) Para la mejor red entrenada anteriormente construya la matriz de confusi\u0013on de las distintas clases, para\n",
    "asi visualizar cu\u0013ales son las clases m\u0013as dif\u0013\u0010ciles de clasi\f",
    "car y con cu\u0013ales se confunden. Comente.\n",
    "(e) Entrene una SVM no lineal sobre los pixeles con y sin pre-procesamiento. Puede utilizar el conjunto de\n",
    "validaci\u0013on para seleccionar hiper-par\u0013ametros, como el nivel de regularizaci\u0013on aplicado y/o la funci\u0013on\n",
    "de kernel a utilizar.\n",
    "(f) Entrene una \u0013arbol de clasi\f",
    "caci\u0013on sobre los pixeles con y sin pre-procesamiento. Puede utilizar el\n",
    "conjunto de validaci\u0013on para seleccionar hiper-par\u0013ametros, como la profundidad m\u0013axima del \u0013arbol."
   ]
  }
 ],
 "metadata": {
  "kernelspec": {
   "display_name": "Python 3",
   "language": "python",
   "name": "python3"
  },
  "language_info": {
   "codemirror_mode": {
    "name": "ipython",
    "version": 3
   },
   "file_extension": ".py",
   "mimetype": "text/x-python",
   "name": "python",
   "nbconvert_exporter": "python",
   "pygments_lexer": "ipython3",
   "version": "3.6.3"
  }
 },
 "nbformat": 4,
 "nbformat_minor": 2
}
