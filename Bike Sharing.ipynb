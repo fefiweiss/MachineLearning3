{
 "cells": [
  {
   "cell_type": "markdown",
   "metadata": {},
   "source": [
    "# Bike Sharing: Predicción de Demanda Horaria"
   ]
  },
  {
   "cell_type": "markdown",
   "metadata": {},
   "source": [
    "En esta secci´on simularemos nuestra participaci´on en el desaf´ıo Bike Sharing Demand de Kaggle [3]. El\n",
    "objetivo es predecir la demanda de bicicletas sobre la red Capital Bikeshare de la ciudad de Washington,\n",
    "D.C., en funci´on de la hora del d´ıa y otras variables descritas en la tabla 1. En principio, y como muestra\n",
    "la figura, la funci´on es altamente no lineal y no determinista como funci´on de la hora del d´ıa. Su objetivo\n",
    "ser´a entrenar un modelo para obtener un puntaje correspondiente al top-100 del “leaderboard” final, es\n",
    "decir superior o igual a 0.37748. La funci´on utilizada para evaluar este concurso Kaggle se proporciona en la\n",
    "siguiente ecuaci´on:\n",
    "Ebikes(y, yˆ) = 1\n",
    "n\n",
    "X\n",
    "i\n",
    "(ln(yi + 1) − ln(ˆyi + 1))2\n",
    ", (1)\n",
    "donde y, yˆ ∈ R\n",
    "n denotan los vectores de observaciones y predicciones respectivamente.\n",
    "Como el dataset de pruebas original no est´a disponible se fabricar´a uno, correspondiente al 20 % de los\n",
    "datos de entrenamiento. Adem´as, se pondr´a a su disposici´on un subconjunto independiente de datos con\n",
    "prop´ositos de validaci´on. Usted podr´a descargar los archivos correspondientes al subconjunto de entrenamiento\n",
    "y pruebas a utilizar ejecutando los siguientes comandos:"
   ]
  },
  {
   "cell_type": "markdown",
   "metadata": {},
   "source": [
    "(a) Cargue los datos de entrenamiento y pruebas como dataframes de pandas. Describa las variables involucradas\n",
    "en el problema, explorando el tipo de datos de que se trata, el n´umero de valores distintos y, si\n",
    "corresponde, un gr´afico (e.g. un histograma) que resuma su comportamiento. Su primera operaci´on de\n",
    "pre-procesamiento de datos ser´a obtener la hora del d´ıa desde el campo fecha (que en este momento es\n",
    "de tipo string), creando una nueva columna denominada hour y de tipo int. Para hacer esta operaci´on\n",
    "se concatenar´an los dataframes de entrenamiento y pruebas y luego se volver´an a separar manteniendo\n",
    "la separaci´on original."
   ]
  },
  {
   "cell_type": "code",
   "execution_count": 1,
   "metadata": {},
   "outputs": [
    {
     "name": "stdout",
     "output_type": "stream",
     "text": [
      "\n",
      "Summary - dataframe completo:\n",
      "\n",
      "         Unnamed: 0        season       holiday    workingday       weather  \\\n",
      "count  10886.000000  10886.000000  10886.000000  10886.000000  10886.000000   \n",
      "mean    5442.500000      2.506614      0.028569      0.680875      1.418427   \n",
      "std     3142.661849      1.116174      0.166599      0.466159      0.633839   \n",
      "min        0.000000      1.000000      0.000000      0.000000      1.000000   \n",
      "25%     2721.250000      2.000000      0.000000      0.000000      1.000000   \n",
      "50%     5442.500000      3.000000      0.000000      1.000000      1.000000   \n",
      "75%     8163.750000      4.000000      0.000000      1.000000      2.000000   \n",
      "max    10885.000000      4.000000      1.000000      1.000000      4.000000   \n",
      "\n",
      "              temp         atemp      humidity     windspeed        casual  \\\n",
      "count  10886.00000  10886.000000  10886.000000  10886.000000  10886.000000   \n",
      "mean      20.23086     23.655084     61.886460     12.799395     36.021955   \n",
      "std        7.79159      8.474601     19.245033      8.164537     49.960477   \n",
      "min        0.82000      0.760000      0.000000      0.000000      0.000000   \n",
      "25%       13.94000     16.665000     47.000000      7.001500      4.000000   \n",
      "50%       20.50000     24.240000     62.000000     12.998000     17.000000   \n",
      "75%       26.24000     31.060000     77.000000     16.997900     49.000000   \n",
      "max       41.00000     45.455000    100.000000     56.996900    367.000000   \n",
      "\n",
      "         registered         count  \n",
      "count  10886.000000  10886.000000  \n",
      "mean     155.552177    191.574132  \n",
      "std      151.039033    181.144454  \n",
      "min        0.000000      1.000000  \n",
      "25%       36.000000     42.000000  \n",
      "50%      118.000000    145.000000  \n",
      "75%      222.000000    284.000000  \n",
      "max      886.000000    977.000000  \n"
     ]
    }
   ],
   "source": [
    "import pandas as pd\n",
    "import numpy as np\n",
    "dftrain = pd.read_csv('bike_sharing_train.csv')\n",
    "dfval = pd.read_csv('bike_sharing_val.csv')\n",
    "dftest = pd.read_csv('bike_sharing_test.csv')\n",
    "ntrain = len(dftrain)\n",
    "nval = len(dftrain) + len(dfval)\n",
    "df = pd.concat([dftrain,dfval,dftest])\n",
    "print '\\nSummary - dataframe completo:\\n'\n",
    "print df.describe()\n",
    "df['hour'] = pd.to_datetime(df['datetime']).apply(lambda x: x.strftime('%H'))\n",
    "df['hour'] = pd.to_numeric(df['hour'])"
   ]
  },
  {
   "cell_type": "markdown",
   "metadata": {},
   "source": [
    "(b) Entrene un ´arbol de regresi´on para resolver el problema usando par´ametros por defecto. Con este\n",
    "fin, construya una matriz Xtrain de forma ntrain × d1 que contenga los datos de entrenamiento en sus\n",
    "filas, seleccionando las columnas que desee/pueda utilizar para el entrenamiento. Implemente adem´as, la\n",
    "funci´on de evaluaci´on que hemos definido anteriormente para este problema. Eval´ue el ´arbol de regresi´on\n",
    "ajustado a los datos de entrenamiento sobre el conjunto de entrenamiento y pruebas. Construya un\n",
    "gr´afico que compare las predicciones con los valores reales. En este punto usted debiese tener un modelo\n",
    "con puntaje del orden de 0.59, lo que lo dejar´a m´as o menos en la posici´on 2140 de la competencia."
   ]
  },
  {
   "cell_type": "code",
   "execution_count": 3,
   "metadata": {},
   "outputs": [
    {
     "name": "stdout",
     "output_type": "stream",
     "text": [
      "SCORE TEST=0.703388\n",
      "KAGG EVAL TRAIN =0.028516\n",
      "KAGG EVAL TEST =0.574239\n"
     ]
    },
    {
     "data": {
      "text/plain": [
       "<matplotlib.figure.Figure at 0x7efebd547950>"
      ]
     },
     "metadata": {},
     "output_type": "display_data"
    }
   ],
   "source": [
    "from sklearn.tree import DecisionTreeRegressor as Tree\n",
    "import matplotlib.pyplot as plt\n",
    "def eval_bikemodel(y_predict,y_true):\n",
    "    diff = np.log(y_predict+1.0) - np.log(y_true+1.0)\n",
    "    return np.sqrt(np.sum(np.square(diff))/len(y_predict))\n",
    "Xdf=df.ix[:,['season','holiday','workingday','weather','temp','atemp','humidity','windspeed','hour']]\n",
    "Ydf=df.ix[:,'count']\n",
    "X_train = Xdf[0:ntrain].values\n",
    "X_val = Xdf[ntrain:nval].values\n",
    "X_test = Xdf[nval:].values\n",
    "Y_train = Ydf[0:ntrain].values\n",
    "Y_val = Ydf[ntrain:nval].values\n",
    "Y_test = Ydf[nval:].values\n",
    "\n",
    "model = Tree(random_state=0)\n",
    "model.fit(X_train,Y_train)\n",
    "score_test = model.score(X_test,Y_test)\n",
    "print \"SCORE TEST=%f\"%score_test\n",
    "\n",
    "Y_pred_train = model.predict(X_train)\n",
    "Y_pred_val = model.predict(X_val)\n",
    "Y_pred_test = model.predict(X_test)\n",
    "kagg_train = eval_bikemodel(Y_pred_train,Y_train)\n",
    "kagg_val = eval_bikemodel(Y_pred_val,Y_val)\n",
    "kagg_test = eval_bikemodel(Y_pred_test,Y_test)\n",
    "\n",
    "print \"KAGG EVAL TRAIN =%f\"%kagg_train\n",
    "print \"KAGG EVAL TEST =%f\"%kagg_test\n",
    "plt.plot(Y_test,Y_pred_test,'.')\n",
    "plt.show()"
   ]
  },
  {
   "cell_type": "markdown",
   "metadata": {},
   "source": [
    "(c) Mejore el ´arbol de regresi´on definido en el punto anterior haciendo modificaciones a los hiper-par´ametros\n",
    "del modelo. Por ejemplo, como estos modelos tienden a sobre-ajustar, podr´ıa intentar limitar la\n",
    "profundidad del ´arbol (¿Por qu´e esto debiese ayudar?). Naturalmente, est´a absolutamente prohibido\n",
    "tomar este tipo de decisiones en funci´on del resultado de pruebas. Debe realizar estas elecciones evaluando\n",
    "sobre el conjunto de validaci´on. Si no desea utilizarlo, y prefiere implementar validaci´on cruzada\n",
    "u otra t´ecnica autom´atica, tiene la ventaja de poder usar el conjunto de validaci´on como parte del\n",
    "entrenamiento. Con estas modificaciones debiese poder mejorar su ranking en unas 300 posiciones."
   ]
  },
  {
   "cell_type": "code",
   "execution_count": 4,
   "metadata": {},
   "outputs": [
    {
     "name": "stdout",
     "output_type": "stream",
     "text": [
      "KAGG EVAL VAL =0.546219\n"
     ]
    }
   ],
   "source": [
    "model = Tree(random_state=0,max_depth=20)\n",
    "model.fit(X_train,Y_train)\n",
    "Y_pred_val = model.predict(X_val)\n",
    "kagg_val = eval_bikemodel(Y_pred_val,Y_val)\n",
    "print \"KAGG EVAL VAL =%f\"%kagg_val"
   ]
  },
  {
   "cell_type": "markdown",
   "metadata": {},
   "source": [
    "d) Mejore el ´arbol de regresi´on definido en el punto anterior haciendo modificaciones sobre la representaci´on utilizada para aprender desde los datos. Por ejemplo, los histogramas que construy´o en el punto (a) as´ı como la forma especial de la funci´on de evaluaci´on, sugieren una cierta transformaci´on de la variable respuesta. Podr´ıa intentar tambi´en normalizando los datos o normalizando la respuesta. Otra opci´on es intentar rescatar algo m´as acerca de la fecha (anteriormente s´olo se extrajo la hora), como por ejemplo el a˜no o el d´ıa de la semana (’lunes’,’martes’, etc) que corresponde. Sea creativo, este paso le debiese reportar un salto de calidad muy significativo. Una observaci´on importante es que si hace una transformaci´on a la variable respuesta (por ejemplo ra´ız cuadrada), debe invertir esta transformaci´on antes de evaluar el desempe˜no con eval bikemodel (por ejemplo, elevar al cuadrado si tom´o ra´ız cuadrada). Con modificaciones de este tipo, podr´ıa mejorar su ranking en unas 1000 posiciones, entrando ya al top-1000 con un score del orden de 0.45"
   ]
  },
  {
   "cell_type": "code",
   "execution_count": 5,
   "metadata": {},
   "outputs": [],
   "source": [
    "df['cday'] = pd.to_datetime(df['datetime']).dt.dayofweek#0:lunes,6:domingo\n",
    "df['cday'] = pd.to_numeric(df['cday'])\n",
    "Xdf=df.ix[:,['season','holiday','workingday','weather','temp','atemp','humidity','windspeed','hour','cday']]"
   ]
  },
  {
   "cell_type": "markdown",
   "metadata": {},
   "source": [
    "(e) Entrene una SVM no lineal para resolver el problema midiendo el efecto de las distintas representaciones\n",
    "que haya descubierto hasta este punto. Un detalle importante es que antes de entrenar la SVM ser´ıa\n",
    "aconsejable hacer dos tipos de pre-procesamiento adicional de los datos: (i) codificar las variables\n",
    "categ´oricas en un modo apropiado - por ejemplo como vector binario con un 1 en la posici´on del\n",
    "valor adoptado-, (ii) escalar los atributos de modo que queden centrados y con rangos comparables.\n",
    "Usando par´ametros por defecto para la SVM debiese obtener un score del orden de 0.344, quedando\n",
    "definitivamente en el top-10 de la competencia."
   ]
  },
  {
   "cell_type": "code",
   "execution_count": 6,
   "metadata": {},
   "outputs": [],
   "source": [
    "#load dataframes as before ...\n",
    "df = pd.concat([dftrain,dfval,dftest])\n",
    "df['hour'] = pd.to_datetime(df['datetime']).apply(lambda x: x.strftime('%H'))\n",
    "df['cday'] = pd.to_datetime(df['datetime']).dt.dayofweek\n",
    "df['hour'] = pd.to_numeric(df['hour'])\n",
    "df['cday'] = pd.to_numeric(df['cday'])\n",
    "Xdf=df.ix[:,['season','holiday','workingday','weather','temp','atemp','humidity','windspeed','hour','cday']]\n",
    "#PASO IMPORTANTE MAS ABAJO ...\n",
    "Xdf = pd.get_dummies(Xdf,columns=['season', 'weather','hour','cday'])\n",
    "Ydf=df.ix[:,'count']\n",
    "\n",
    "from sklearn.preprocessing import StandardScaler\n",
    "scalerX = StandardScaler()\n",
    "X_train = scalerX.fit_transform(X_train)\n",
    "X_val = scalerX.fit_transform(X_val)\n",
    "X_test = scalerX.transform(X_test)\n",
    "\n",
    "from sklearn.svm import SVR\n",
    "model = SVR()\n",
    "model.fit(X_train,Y_train)\n",
    "Y_pred_train = model.predict(X_train)\n",
    "Y_pred_val = model.predict(X_val)\n",
    "Y_pred_test = model.predict(X_test)"
   ]
  },
  {
   "cell_type": "markdown",
   "metadata": {},
   "source": [
    "(f) Mejore la SVM definida en el punto anterior haciendo modificaciones a los hiper-par´ametros de la\n",
    "m´aquina (C, \u000f o la misma funci´on de kernel). Naturalmente, est´a absolutamente prohibido tomar este\n",
    "tipo de decisiones de dise˜no mirando el resultado de pruebas. Debe realizar estas elecciones evaluando\n",
    "sobre el conjunto de validaci´on. Si no desea utilizarlo, y prefiere implementar validaci´on cruzada\n",
    "u otra t´ecnica autom´atica, tiene la ventaja de poder usar el conjunto de validaci´on como parte del\n",
    "entrenamiento."
   ]
  },
  {
   "cell_type": "code",
   "execution_count": 7,
   "metadata": {},
   "outputs": [
    {
     "name": "stdout",
     "output_type": "stream",
     "text": [
      "KAGG EVAL TRAIN =nan\n",
      "KAGG EVAL VAL =nan\n"
     ]
    }
   ],
   "source": [
    "model = SVR(C=1,epsilon=0.01)\n",
    "kagg_train = eval_bikemodel(Y_pred_train,Y_train)\n",
    "kagg_val = eval_bikemodel(Y_pred_val,Y_val)\n",
    "print \"KAGG EVAL TRAIN =%f\"%kagg_train\n",
    "print \"KAGG EVAL VAL =%f\"%kagg_val"
   ]
  },
  {
   "cell_type": "markdown",
   "metadata": {},
   "source": [
    "(g) Eval´ue el efecto de utilizar el dataset de validaci´on para entrenamiento y seleccionar los par´ametros\n",
    "estructurales del ´arbol de clasificaci´on y la SVM usando validaci´on cruzada. El c´odigo de ejemplo para\n",
    "esto ha sido proporcionado en las tareas 1 y 2, pero se adjunta de nuevo a continuaci´on"
   ]
  },
  {
   "cell_type": "code",
   "execution_count": 9,
   "metadata": {},
   "outputs": [
    {
     "ename": "NameError",
     "evalue": "name 'Xm' is not defined",
     "output_type": "error",
     "traceback": [
      "\u001b[0;31m---------------------------------------------------------------------------\u001b[0m",
      "\u001b[0;31mNameError\u001b[0m                                 Traceback (most recent call last)",
      "\u001b[0;32m<ipython-input-9-921bddb99d1a>\u001b[0m in \u001b[0;36m<module>\u001b[0;34m()\u001b[0m\n\u001b[1;32m      2\u001b[0m \u001b[0mkf\u001b[0m \u001b[0;34m=\u001b[0m \u001b[0mKFold\u001b[0m\u001b[0;34m(\u001b[0m\u001b[0mn_splits\u001b[0m\u001b[0;34m=\u001b[0m\u001b[0;36m10\u001b[0m\u001b[0;34m)\u001b[0m\u001b[0;34m\u001b[0m\u001b[0m\n\u001b[1;32m      3\u001b[0m \u001b[0mmse_cv\u001b[0m \u001b[0;34m=\u001b[0m \u001b[0;36m0\u001b[0m\u001b[0;34m\u001b[0m\u001b[0m\n\u001b[0;32m----> 4\u001b[0;31m \u001b[0;32mfor\u001b[0m \u001b[0mtrain\u001b[0m\u001b[0;34m,\u001b[0m \u001b[0mval\u001b[0m \u001b[0;32min\u001b[0m \u001b[0mkf\u001b[0m\u001b[0;34m.\u001b[0m\u001b[0msplit\u001b[0m\u001b[0;34m(\u001b[0m\u001b[0mXm\u001b[0m\u001b[0;34m)\u001b[0m\u001b[0;34m:\u001b[0m\u001b[0;34m\u001b[0m\u001b[0m\n\u001b[0m\u001b[1;32m      5\u001b[0m     \u001b[0mmodel\u001b[0m \u001b[0;34m=\u001b[0m \u001b[0mSVR\u001b[0m\u001b[0;34m(\u001b[0m\u001b[0mC\u001b[0m\u001b[0;34m=\u001b[0m\u001b[0;36m1\u001b[0m\u001b[0;34m,\u001b[0m\u001b[0mepsilon\u001b[0m\u001b[0;34m=\u001b[0m\u001b[0;36m0.01\u001b[0m\u001b[0;34m)\u001b[0m \u001b[0;31m#define your model\u001b[0m\u001b[0;34m\u001b[0m\u001b[0m\n\u001b[1;32m      6\u001b[0m     \u001b[0mmodel\u001b[0m\u001b[0;34m.\u001b[0m\u001b[0mfit\u001b[0m\u001b[0;34m(\u001b[0m\u001b[0mXm\u001b[0m\u001b[0;34m[\u001b[0m\u001b[0mtrain\u001b[0m\u001b[0;34m]\u001b[0m\u001b[0;34m,\u001b[0m \u001b[0mym\u001b[0m\u001b[0;34m[\u001b[0m\u001b[0mtrain\u001b[0m\u001b[0;34m]\u001b[0m\u001b[0;34m)\u001b[0m\u001b[0;34m\u001b[0m\u001b[0m\n",
      "\u001b[0;31mNameError\u001b[0m: name 'Xm' is not defined"
     ]
    }
   ],
   "source": [
    "from sklearn.model_selection import KFold\n",
    "kf = KFold(n_splits=10)\n",
    "mse_cv = 0\n",
    "for train, val in kf.split(Xm):\n",
    "    model = SVR(C=1,epsilon=0.01) #define your model\n",
    "    model.fit(Xm[train], ym[train])\n",
    "    yhat_val = model.predict(Xm[val])\n",
    "    ytrue_val = ym[val]\n",
    "    score_fold = eval_bikemodel(yhat_val,ytrue_val)\n",
    "    mse_cv += score_fold\n",
    "mse_cv = mse_cv / 10"
   ]
  },
  {
   "cell_type": "markdown",
   "metadata": {},
   "source": [
    "(h) Eval´ue el efecto de utilizar un ensamblado de 2 m´aquinas de aprendizaje para predecir la demanda\n",
    "total de bicicletas. Un modelo se especializar´a en la predicci´on de la demanda de bicicletas de parte\n",
    "de usuarios registrados y otra en la predicci´on de la demanda de usuarios casuales. Hay razones claras\n",
    "para pensar que los patrones son distintos."
   ]
  },
  {
   "cell_type": "code",
   "execution_count": 10,
   "metadata": {},
   "outputs": [],
   "source": [
    "Ydf=df.ix[:,'count'] #demanda total\n",
    "Ydf=df.ix[:,'registered'] #demanda registrada\n",
    "Ydf=df.ix[:,'casual'] #demanda casual"
   ]
  },
  {
   "cell_type": "markdown",
   "metadata": {},
   "source": [
    "(i) Eval´ue el efecto de utilizar un algoritmo gen´erico para ensamblar m´aquinas de aprendizaje para predecir\n",
    "la demanda total de bicicletas. Puede experimentar con una sola t´ecnica (e.g. Random Forest), discuta\n",
    "la evoluci´on a medida que aumenta el n´umero de m´aquinas."
   ]
  },
  {
   "cell_type": "code",
   "execution_count": 13,
   "metadata": {},
   "outputs": [],
   "source": [
    "from sklearn.ensemble import RandomForestRegressor\n",
    "max_depth  = 2 #determinar\n",
    "model = RandomForestRegressor(n_estimators=10,max_depth=max_depth,random_state=0)"
   ]
  }
 ],
 "metadata": {
  "kernelspec": {
   "display_name": "Python 2",
   "language": "python",
   "name": "python2"
  },
  "language_info": {
   "codemirror_mode": {
    "name": "ipython",
    "version": 2
   },
   "file_extension": ".py",
   "mimetype": "text/x-python",
   "name": "python",
   "nbconvert_exporter": "python",
   "pygments_lexer": "ipython2",
   "version": "2.7.12"
  }
 },
 "nbformat": 4,
 "nbformat_minor": 2
}
